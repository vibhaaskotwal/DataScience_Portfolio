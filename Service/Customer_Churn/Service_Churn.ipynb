{
 "cells": [
  {
   "cell_type": "markdown",
   "metadata": {},
   "source": [
    "<h1 style=\"color:DodgerBlue;\">Customer Churn Service</h1>"
   ]
  },
  {
   "cell_type": "markdown",
   "metadata": {},
   "source": [
    "<h1 style=\"color:DodgerBlue;\">Import Libraries</h1>"
   ]
  },
  {
   "cell_type": "code",
   "execution_count": 1,
   "metadata": {},
   "outputs": [],
   "source": [
    "# Import\n",
    "import numpy as np\n",
    "import pandas as pd\n",
    "import seaborn as sns\n",
    "import math\n",
    "import matplotlib.pyplot as plt\n",
    "%matplotlib inline"
   ]
  },
  {
   "cell_type": "code",
   "execution_count": 2,
   "metadata": {},
   "outputs": [],
   "source": [
    "%matplotlib inline\n",
    "\n",
    "import warnings\n",
    "warnings.filterwarnings('ignore')\n",
    "warnings.filterwarnings('ignore', category=DeprecationWarning)\n",
    "\n",
    "import pandas as pd\n",
    "\n",
    "from matplotlib import pyplot as plt\n",
    "import numpy as np\n",
    "\n",
    "import seaborn as sns\n",
    "\n",
    "import pylab as plot\n"
   ]
  },
  {
   "cell_type": "markdown",
   "metadata": {},
   "source": [
    "<h1 style=\"color:DodgerBlue;\">Load Data</h1>"
   ]
  },
  {
   "cell_type": "code",
   "execution_count": 3,
   "metadata": {},
   "outputs": [
    {
     "data": {
      "text/html": [
       "<div>\n",
       "<style scoped>\n",
       "    .dataframe tbody tr th:only-of-type {\n",
       "        vertical-align: middle;\n",
       "    }\n",
       "\n",
       "    .dataframe tbody tr th {\n",
       "        vertical-align: top;\n",
       "    }\n",
       "\n",
       "    .dataframe thead th {\n",
       "        text-align: right;\n",
       "    }\n",
       "</style>\n",
       "<table border=\"1\" class=\"dataframe\">\n",
       "  <thead>\n",
       "    <tr style=\"text-align: right;\">\n",
       "      <th></th>\n",
       "      <th>CUSTOMER_ID</th>\n",
       "      <th>TENURE</th>\n",
       "      <th>VISITS</th>\n",
       "      <th>LIFETIME_SPENT</th>\n",
       "      <th>ABSENCE</th>\n",
       "      <th>DRIVE_LIFE</th>\n",
       "      <th>SERVICE_TIME</th>\n",
       "      <th>VEHICLE_AGE</th>\n",
       "      <th>MODEL1</th>\n",
       "      <th>MODEL2</th>\n",
       "      <th>...</th>\n",
       "      <th>Dissatisfied</th>\n",
       "      <th>Satisfied</th>\n",
       "      <th>North</th>\n",
       "      <th>South</th>\n",
       "      <th>East</th>\n",
       "      <th>West</th>\n",
       "      <th>LBR_COST</th>\n",
       "      <th>All_PRTS</th>\n",
       "      <th>Total_Spent</th>\n",
       "      <th>Churn</th>\n",
       "    </tr>\n",
       "  </thead>\n",
       "  <tbody>\n",
       "    <tr>\n",
       "      <th>0</th>\n",
       "      <td>Customer1</td>\n",
       "      <td>43</td>\n",
       "      <td>18</td>\n",
       "      <td>6940.05</td>\n",
       "      <td>15</td>\n",
       "      <td>108885</td>\n",
       "      <td>9.470588</td>\n",
       "      <td>5</td>\n",
       "      <td>0</td>\n",
       "      <td>0</td>\n",
       "      <td>...</td>\n",
       "      <td>0</td>\n",
       "      <td>0</td>\n",
       "      <td>0</td>\n",
       "      <td>1</td>\n",
       "      <td>0</td>\n",
       "      <td>0</td>\n",
       "      <td>356.18</td>\n",
       "      <td>615.19</td>\n",
       "      <td>971.37</td>\n",
       "      <td>0</td>\n",
       "    </tr>\n",
       "    <tr>\n",
       "      <th>1</th>\n",
       "      <td>Customer2</td>\n",
       "      <td>0</td>\n",
       "      <td>1</td>\n",
       "      <td>0.00</td>\n",
       "      <td>19</td>\n",
       "      <td>2190</td>\n",
       "      <td>13.000000</td>\n",
       "      <td>1</td>\n",
       "      <td>0</td>\n",
       "      <td>0</td>\n",
       "      <td>...</td>\n",
       "      <td>0</td>\n",
       "      <td>0</td>\n",
       "      <td>1</td>\n",
       "      <td>0</td>\n",
       "      <td>0</td>\n",
       "      <td>0</td>\n",
       "      <td>0.00</td>\n",
       "      <td>0.00</td>\n",
       "      <td>0.00</td>\n",
       "      <td>1</td>\n",
       "    </tr>\n",
       "    <tr>\n",
       "      <th>2</th>\n",
       "      <td>Customer3</td>\n",
       "      <td>4</td>\n",
       "      <td>2</td>\n",
       "      <td>188.69</td>\n",
       "      <td>14</td>\n",
       "      <td>10985</td>\n",
       "      <td>15.000000</td>\n",
       "      <td>2</td>\n",
       "      <td>0</td>\n",
       "      <td>0</td>\n",
       "      <td>...</td>\n",
       "      <td>0</td>\n",
       "      <td>0</td>\n",
       "      <td>0</td>\n",
       "      <td>0</td>\n",
       "      <td>0</td>\n",
       "      <td>1</td>\n",
       "      <td>21.54</td>\n",
       "      <td>36.94</td>\n",
       "      <td>58.48</td>\n",
       "      <td>0</td>\n",
       "    </tr>\n",
       "    <tr>\n",
       "      <th>3</th>\n",
       "      <td>Customer4</td>\n",
       "      <td>76</td>\n",
       "      <td>22</td>\n",
       "      <td>2824.07</td>\n",
       "      <td>13</td>\n",
       "      <td>122068</td>\n",
       "      <td>17.909091</td>\n",
       "      <td>9</td>\n",
       "      <td>0</td>\n",
       "      <td>1</td>\n",
       "      <td>...</td>\n",
       "      <td>0</td>\n",
       "      <td>0</td>\n",
       "      <td>1</td>\n",
       "      <td>0</td>\n",
       "      <td>0</td>\n",
       "      <td>0</td>\n",
       "      <td>786.68</td>\n",
       "      <td>1956.51</td>\n",
       "      <td>2743.19</td>\n",
       "      <td>0</td>\n",
       "    </tr>\n",
       "    <tr>\n",
       "      <th>4</th>\n",
       "      <td>Customer5</td>\n",
       "      <td>39</td>\n",
       "      <td>10</td>\n",
       "      <td>676.35</td>\n",
       "      <td>5</td>\n",
       "      <td>56123</td>\n",
       "      <td>10.600000</td>\n",
       "      <td>6</td>\n",
       "      <td>0</td>\n",
       "      <td>0</td>\n",
       "      <td>...</td>\n",
       "      <td>2</td>\n",
       "      <td>2</td>\n",
       "      <td>0</td>\n",
       "      <td>0</td>\n",
       "      <td>1</td>\n",
       "      <td>0</td>\n",
       "      <td>301.36</td>\n",
       "      <td>386.42</td>\n",
       "      <td>687.78</td>\n",
       "      <td>0</td>\n",
       "    </tr>\n",
       "  </tbody>\n",
       "</table>\n",
       "<p>5 rows × 33 columns</p>\n",
       "</div>"
      ],
      "text/plain": [
       "  CUSTOMER_ID  TENURE  VISITS  LIFETIME_SPENT  ABSENCE  DRIVE_LIFE  \\\n",
       "0   Customer1      43      18         6940.05       15      108885   \n",
       "1   Customer2       0       1            0.00       19        2190   \n",
       "2   Customer3       4       2          188.69       14       10985   \n",
       "3   Customer4      76      22         2824.07       13      122068   \n",
       "4   Customer5      39      10          676.35        5       56123   \n",
       "\n",
       "   SERVICE_TIME  VEHICLE_AGE  MODEL1  MODEL2  ...  Dissatisfied  Satisfied  \\\n",
       "0      9.470588            5       0       0  ...             0          0   \n",
       "1     13.000000            1       0       0  ...             0          0   \n",
       "2     15.000000            2       0       0  ...             0          0   \n",
       "3     17.909091            9       0       1  ...             0          0   \n",
       "4     10.600000            6       0       0  ...             2          2   \n",
       "\n",
       "   North  South  East  West  LBR_COST  All_PRTS  Total_Spent  Churn  \n",
       "0      0      1     0     0    356.18    615.19       971.37      0  \n",
       "1      1      0     0     0      0.00      0.00         0.00      1  \n",
       "2      0      0     0     1     21.54     36.94        58.48      0  \n",
       "3      1      0     0     0    786.68   1956.51      2743.19      0  \n",
       "4      0      0     1     0    301.36    386.42       687.78      0  \n",
       "\n",
       "[5 rows x 33 columns]"
      ]
     },
     "execution_count": 3,
     "metadata": {},
     "output_type": "execute_result"
    }
   ],
   "source": [
    "\n",
    "# load the dataset\n",
    "\n",
    "df_basedata_train_0 = pd.read_excel(r'C:\\ArtistofAnalytics\\Projects\\Service_Churn\\Customer_Churn_Data_Fetch_3.xlsx')\n",
    "df_basedata_train_0.head()\n"
   ]
  },
  {
   "cell_type": "markdown",
   "metadata": {},
   "source": [
    "<h1 style=\"color:DodgerBlue;\">Exploratory Data Analysis</h1>"
   ]
  },
  {
   "cell_type": "code",
   "execution_count": 4,
   "metadata": {},
   "outputs": [
    {
     "name": "stdout",
     "output_type": "stream",
     "text": [
      "<class 'pandas.core.frame.DataFrame'>\n",
      "RangeIndex: 74488 entries, 0 to 74487\n",
      "Data columns (total 33 columns):\n",
      " #   Column           Non-Null Count  Dtype  \n",
      "---  ------           --------------  -----  \n",
      " 0   CUSTOMER_ID      74488 non-null  object \n",
      " 1   TENURE           74488 non-null  int64  \n",
      " 2   VISITS           74488 non-null  int64  \n",
      " 3   LIFETIME_SPENT   74488 non-null  float64\n",
      " 4   ABSENCE          74488 non-null  int64  \n",
      " 5   DRIVE_LIFE       74488 non-null  int64  \n",
      " 6   SERVICE_TIME     74488 non-null  float64\n",
      " 7   VEHICLE_AGE      74488 non-null  int64  \n",
      " 8   MODEL1           74488 non-null  int64  \n",
      " 9   MODEL2           74488 non-null  int64  \n",
      " 10  MODEL3           74488 non-null  int64  \n",
      " 11  MODEL4           74488 non-null  int64  \n",
      " 12  MODEL5           74488 non-null  int64  \n",
      " 13  MODEL6           74488 non-null  int64  \n",
      " 14  MODEL7           74488 non-null  int64  \n",
      " 15  MODEL8           74488 non-null  int64  \n",
      " 16  MODEL9           74488 non-null  int64  \n",
      " 17  MODEL10          74488 non-null  int64  \n",
      " 18  MODEL11          74488 non-null  int64  \n",
      " 19  FUEL_TYPE        74488 non-null  int64  \n",
      " 20  USED_VEH         74488 non-null  int64  \n",
      " 21  ESB_ACTIVE       74488 non-null  int64  \n",
      " 22  Latest_Feedback  74488 non-null  int64  \n",
      " 23  Dissatisfied     74488 non-null  int64  \n",
      " 24  Satisfied        74488 non-null  int64  \n",
      " 25  North            74488 non-null  int64  \n",
      " 26  South            74488 non-null  int64  \n",
      " 27  East             74488 non-null  int64  \n",
      " 28  West             74488 non-null  int64  \n",
      " 29  LBR_COST         74488 non-null  float64\n",
      " 30  All_PRTS         74488 non-null  float64\n",
      " 31  Total_Spent      74488 non-null  float64\n",
      " 32  Churn            74488 non-null  int64  \n",
      "dtypes: float64(5), int64(27), object(1)\n",
      "memory usage: 18.8+ MB\n"
     ]
    }
   ],
   "source": [
    "df_basedata_train_0.info()"
   ]
  },
  {
   "cell_type": "code",
   "execution_count": 5,
   "metadata": {},
   "outputs": [
    {
     "data": {
      "text/html": [
       "<div>\n",
       "<style scoped>\n",
       "    .dataframe tbody tr th:only-of-type {\n",
       "        vertical-align: middle;\n",
       "    }\n",
       "\n",
       "    .dataframe tbody tr th {\n",
       "        vertical-align: top;\n",
       "    }\n",
       "\n",
       "    .dataframe thead th {\n",
       "        text-align: right;\n",
       "    }\n",
       "</style>\n",
       "<table border=\"1\" class=\"dataframe\">\n",
       "  <thead>\n",
       "    <tr style=\"text-align: right;\">\n",
       "      <th></th>\n",
       "      <th>TENURE</th>\n",
       "      <th>VISITS</th>\n",
       "      <th>LIFETIME_SPENT</th>\n",
       "      <th>ABSENCE</th>\n",
       "      <th>DRIVE_LIFE</th>\n",
       "      <th>SERVICE_TIME</th>\n",
       "      <th>VEHICLE_AGE</th>\n",
       "      <th>MODEL1</th>\n",
       "      <th>MODEL2</th>\n",
       "      <th>MODEL3</th>\n",
       "      <th>...</th>\n",
       "      <th>Dissatisfied</th>\n",
       "      <th>Satisfied</th>\n",
       "      <th>North</th>\n",
       "      <th>South</th>\n",
       "      <th>East</th>\n",
       "      <th>West</th>\n",
       "      <th>LBR_COST</th>\n",
       "      <th>All_PRTS</th>\n",
       "      <th>Total_Spent</th>\n",
       "      <th>Churn</th>\n",
       "    </tr>\n",
       "  </thead>\n",
       "  <tbody>\n",
       "    <tr>\n",
       "      <th>count</th>\n",
       "      <td>74488.000000</td>\n",
       "      <td>74488.000000</td>\n",
       "      <td>74488.000000</td>\n",
       "      <td>74488.000000</td>\n",
       "      <td>74488.00000</td>\n",
       "      <td>74488.000000</td>\n",
       "      <td>74488.000000</td>\n",
       "      <td>74488.000000</td>\n",
       "      <td>74488.000000</td>\n",
       "      <td>74488.000000</td>\n",
       "      <td>...</td>\n",
       "      <td>74488.000000</td>\n",
       "      <td>74488.000000</td>\n",
       "      <td>74488.000000</td>\n",
       "      <td>74488.000000</td>\n",
       "      <td>74488.000000</td>\n",
       "      <td>74488.000000</td>\n",
       "      <td>74488.000000</td>\n",
       "      <td>74488.000000</td>\n",
       "      <td>74488.000000</td>\n",
       "      <td>74488.000000</td>\n",
       "    </tr>\n",
       "    <tr>\n",
       "      <th>mean</th>\n",
       "      <td>29.891607</td>\n",
       "      <td>7.496563</td>\n",
       "      <td>1015.909142</td>\n",
       "      <td>11.883337</td>\n",
       "      <td>48024.50592</td>\n",
       "      <td>26.044397</td>\n",
       "      <td>4.386720</td>\n",
       "      <td>0.130008</td>\n",
       "      <td>0.004430</td>\n",
       "      <td>0.011801</td>\n",
       "      <td>...</td>\n",
       "      <td>0.422833</td>\n",
       "      <td>0.724587</td>\n",
       "      <td>0.548303</td>\n",
       "      <td>0.244549</td>\n",
       "      <td>0.066521</td>\n",
       "      <td>0.140627</td>\n",
       "      <td>243.167778</td>\n",
       "      <td>470.548863</td>\n",
       "      <td>713.716641</td>\n",
       "      <td>0.260955</td>\n",
       "    </tr>\n",
       "    <tr>\n",
       "      <th>std</th>\n",
       "      <td>25.568569</td>\n",
       "      <td>7.016909</td>\n",
       "      <td>1891.727409</td>\n",
       "      <td>10.314209</td>\n",
       "      <td>47348.28230</td>\n",
       "      <td>21.802303</td>\n",
       "      <td>3.053363</td>\n",
       "      <td>0.336314</td>\n",
       "      <td>0.066413</td>\n",
       "      <td>0.107988</td>\n",
       "      <td>...</td>\n",
       "      <td>0.838243</td>\n",
       "      <td>1.165042</td>\n",
       "      <td>0.497665</td>\n",
       "      <td>0.429823</td>\n",
       "      <td>0.249192</td>\n",
       "      <td>0.347638</td>\n",
       "      <td>343.093383</td>\n",
       "      <td>829.669711</td>\n",
       "      <td>1103.674212</td>\n",
       "      <td>0.439158</td>\n",
       "    </tr>\n",
       "    <tr>\n",
       "      <th>min</th>\n",
       "      <td>0.000000</td>\n",
       "      <td>1.000000</td>\n",
       "      <td>-2122.970000</td>\n",
       "      <td>0.000000</td>\n",
       "      <td>0.00000</td>\n",
       "      <td>-3.500000</td>\n",
       "      <td>0.000000</td>\n",
       "      <td>0.000000</td>\n",
       "      <td>0.000000</td>\n",
       "      <td>0.000000</td>\n",
       "      <td>...</td>\n",
       "      <td>0.000000</td>\n",
       "      <td>0.000000</td>\n",
       "      <td>0.000000</td>\n",
       "      <td>0.000000</td>\n",
       "      <td>0.000000</td>\n",
       "      <td>0.000000</td>\n",
       "      <td>-484.020000</td>\n",
       "      <td>0.000000</td>\n",
       "      <td>-484.020000</td>\n",
       "      <td>0.000000</td>\n",
       "    </tr>\n",
       "    <tr>\n",
       "      <th>25%</th>\n",
       "      <td>5.000000</td>\n",
       "      <td>2.000000</td>\n",
       "      <td>101.110000</td>\n",
       "      <td>3.000000</td>\n",
       "      <td>15177.00000</td>\n",
       "      <td>12.625000</td>\n",
       "      <td>2.000000</td>\n",
       "      <td>0.000000</td>\n",
       "      <td>0.000000</td>\n",
       "      <td>0.000000</td>\n",
       "      <td>...</td>\n",
       "      <td>0.000000</td>\n",
       "      <td>0.000000</td>\n",
       "      <td>0.000000</td>\n",
       "      <td>0.000000</td>\n",
       "      <td>0.000000</td>\n",
       "      <td>0.000000</td>\n",
       "      <td>32.540000</td>\n",
       "      <td>45.680000</td>\n",
       "      <td>88.847500</td>\n",
       "      <td>0.000000</td>\n",
       "    </tr>\n",
       "    <tr>\n",
       "      <th>50%</th>\n",
       "      <td>26.000000</td>\n",
       "      <td>5.000000</td>\n",
       "      <td>372.695000</td>\n",
       "      <td>8.000000</td>\n",
       "      <td>38694.50000</td>\n",
       "      <td>19.285714</td>\n",
       "      <td>4.000000</td>\n",
       "      <td>0.000000</td>\n",
       "      <td>0.000000</td>\n",
       "      <td>0.000000</td>\n",
       "      <td>...</td>\n",
       "      <td>0.000000</td>\n",
       "      <td>0.000000</td>\n",
       "      <td>1.000000</td>\n",
       "      <td>0.000000</td>\n",
       "      <td>0.000000</td>\n",
       "      <td>0.000000</td>\n",
       "      <td>121.150000</td>\n",
       "      <td>185.280000</td>\n",
       "      <td>324.985000</td>\n",
       "      <td>0.000000</td>\n",
       "    </tr>\n",
       "    <tr>\n",
       "      <th>75%</th>\n",
       "      <td>51.000000</td>\n",
       "      <td>10.000000</td>\n",
       "      <td>1064.182500</td>\n",
       "      <td>19.000000</td>\n",
       "      <td>69339.25000</td>\n",
       "      <td>34.000000</td>\n",
       "      <td>6.000000</td>\n",
       "      <td>0.000000</td>\n",
       "      <td>0.000000</td>\n",
       "      <td>0.000000</td>\n",
       "      <td>...</td>\n",
       "      <td>1.000000</td>\n",
       "      <td>1.000000</td>\n",
       "      <td>1.000000</td>\n",
       "      <td>0.000000</td>\n",
       "      <td>0.000000</td>\n",
       "      <td>0.000000</td>\n",
       "      <td>320.182500</td>\n",
       "      <td>564.455000</td>\n",
       "      <td>900.942500</td>\n",
       "      <td>1.000000</td>\n",
       "    </tr>\n",
       "    <tr>\n",
       "      <th>max</th>\n",
       "      <td>89.000000</td>\n",
       "      <td>105.000000</td>\n",
       "      <td>31942.540000</td>\n",
       "      <td>36.000000</td>\n",
       "      <td>999999.00000</td>\n",
       "      <td>164.000000</td>\n",
       "      <td>19.000000</td>\n",
       "      <td>1.000000</td>\n",
       "      <td>1.000000</td>\n",
       "      <td>1.000000</td>\n",
       "      <td>...</td>\n",
       "      <td>17.000000</td>\n",
       "      <td>21.000000</td>\n",
       "      <td>1.000000</td>\n",
       "      <td>1.000000</td>\n",
       "      <td>1.000000</td>\n",
       "      <td>1.000000</td>\n",
       "      <td>6648.970000</td>\n",
       "      <td>29160.800000</td>\n",
       "      <td>32040.190000</td>\n",
       "      <td>1.000000</td>\n",
       "    </tr>\n",
       "  </tbody>\n",
       "</table>\n",
       "<p>8 rows × 32 columns</p>\n",
       "</div>"
      ],
      "text/plain": [
       "             TENURE        VISITS  LIFETIME_SPENT       ABSENCE    DRIVE_LIFE  \\\n",
       "count  74488.000000  74488.000000    74488.000000  74488.000000   74488.00000   \n",
       "mean      29.891607      7.496563     1015.909142     11.883337   48024.50592   \n",
       "std       25.568569      7.016909     1891.727409     10.314209   47348.28230   \n",
       "min        0.000000      1.000000    -2122.970000      0.000000       0.00000   \n",
       "25%        5.000000      2.000000      101.110000      3.000000   15177.00000   \n",
       "50%       26.000000      5.000000      372.695000      8.000000   38694.50000   \n",
       "75%       51.000000     10.000000     1064.182500     19.000000   69339.25000   \n",
       "max       89.000000    105.000000    31942.540000     36.000000  999999.00000   \n",
       "\n",
       "       SERVICE_TIME   VEHICLE_AGE        MODEL1        MODEL2        MODEL3  \\\n",
       "count  74488.000000  74488.000000  74488.000000  74488.000000  74488.000000   \n",
       "mean      26.044397      4.386720      0.130008      0.004430      0.011801   \n",
       "std       21.802303      3.053363      0.336314      0.066413      0.107988   \n",
       "min       -3.500000      0.000000      0.000000      0.000000      0.000000   \n",
       "25%       12.625000      2.000000      0.000000      0.000000      0.000000   \n",
       "50%       19.285714      4.000000      0.000000      0.000000      0.000000   \n",
       "75%       34.000000      6.000000      0.000000      0.000000      0.000000   \n",
       "max      164.000000     19.000000      1.000000      1.000000      1.000000   \n",
       "\n",
       "       ...  Dissatisfied     Satisfied         North         South  \\\n",
       "count  ...  74488.000000  74488.000000  74488.000000  74488.000000   \n",
       "mean   ...      0.422833      0.724587      0.548303      0.244549   \n",
       "std    ...      0.838243      1.165042      0.497665      0.429823   \n",
       "min    ...      0.000000      0.000000      0.000000      0.000000   \n",
       "25%    ...      0.000000      0.000000      0.000000      0.000000   \n",
       "50%    ...      0.000000      0.000000      1.000000      0.000000   \n",
       "75%    ...      1.000000      1.000000      1.000000      0.000000   \n",
       "max    ...     17.000000     21.000000      1.000000      1.000000   \n",
       "\n",
       "               East          West      LBR_COST      All_PRTS   Total_Spent  \\\n",
       "count  74488.000000  74488.000000  74488.000000  74488.000000  74488.000000   \n",
       "mean       0.066521      0.140627    243.167778    470.548863    713.716641   \n",
       "std        0.249192      0.347638    343.093383    829.669711   1103.674212   \n",
       "min        0.000000      0.000000   -484.020000      0.000000   -484.020000   \n",
       "25%        0.000000      0.000000     32.540000     45.680000     88.847500   \n",
       "50%        0.000000      0.000000    121.150000    185.280000    324.985000   \n",
       "75%        0.000000      0.000000    320.182500    564.455000    900.942500   \n",
       "max        1.000000      1.000000   6648.970000  29160.800000  32040.190000   \n",
       "\n",
       "              Churn  \n",
       "count  74488.000000  \n",
       "mean       0.260955  \n",
       "std        0.439158  \n",
       "min        0.000000  \n",
       "25%        0.000000  \n",
       "50%        0.000000  \n",
       "75%        1.000000  \n",
       "max        1.000000  \n",
       "\n",
       "[8 rows x 32 columns]"
      ]
     },
     "execution_count": 5,
     "metadata": {},
     "output_type": "execute_result"
    }
   ],
   "source": [
    "df_basedata_train_0.describe()"
   ]
  },
  {
   "cell_type": "code",
   "execution_count": 6,
   "metadata": {},
   "outputs": [
    {
     "data": {
      "text/plain": [
       "Text(0.5, 1.0, 'df_basedata_train_0')"
      ]
     },
     "execution_count": 6,
     "metadata": {},
     "output_type": "execute_result"
    },
    {
     "data": {
      "image/png": "[encoded data removed]",
      "text/plain": [
       "<Figure size 720x360 with 1 Axes>"
      ]
     },
     "metadata": {
      "needs_background": "light"
     },
     "output_type": "display_data"
    }
   ],
   "source": [
    "plt.figure(figsize=(10,5))\n",
    "sns.distplot(df_basedata_train_0['VEHICLE_AGE'], bins=19, color='g').set_title('df_basedata_train_0')"
   ]
  },
  {
   "cell_type": "code",
   "execution_count": 7,
   "metadata": {},
   "outputs": [
    {
     "data": {
      "text/html": [
       "<div>\n",
       "<style scoped>\n",
       "    .dataframe tbody tr th:only-of-type {\n",
       "        vertical-align: middle;\n",
       "    }\n",
       "\n",
       "    .dataframe tbody tr th {\n",
       "        vertical-align: top;\n",
       "    }\n",
       "\n",
       "    .dataframe thead th {\n",
       "        text-align: right;\n",
       "    }\n",
       "</style>\n",
       "<table border=\"1\" class=\"dataframe\">\n",
       "  <thead>\n",
       "    <tr style=\"text-align: right;\">\n",
       "      <th></th>\n",
       "      <th>CUSTOMER_ID</th>\n",
       "      <th>TENURE</th>\n",
       "      <th>VISITS</th>\n",
       "      <th>LIFETIME_SPENT</th>\n",
       "      <th>ABSENCE</th>\n",
       "      <th>DRIVE_LIFE</th>\n",
       "      <th>SERVICE_TIME</th>\n",
       "      <th>VEHICLE_AGE</th>\n",
       "      <th>MODEL1</th>\n",
       "      <th>MODEL2</th>\n",
       "      <th>...</th>\n",
       "      <th>Dissatisfied</th>\n",
       "      <th>Satisfied</th>\n",
       "      <th>North</th>\n",
       "      <th>South</th>\n",
       "      <th>East</th>\n",
       "      <th>West</th>\n",
       "      <th>LBR_COST</th>\n",
       "      <th>All_PRTS</th>\n",
       "      <th>Total_Spent</th>\n",
       "      <th>Churn</th>\n",
       "    </tr>\n",
       "  </thead>\n",
       "  <tbody>\n",
       "    <tr>\n",
       "      <th>12975</th>\n",
       "      <td>Customer12976</td>\n",
       "      <td>3</td>\n",
       "      <td>2</td>\n",
       "      <td>147.79</td>\n",
       "      <td>8</td>\n",
       "      <td>900175</td>\n",
       "      <td>12.000000</td>\n",
       "      <td>5</td>\n",
       "      <td>0</td>\n",
       "      <td>0</td>\n",
       "      <td>...</td>\n",
       "      <td>0</td>\n",
       "      <td>0</td>\n",
       "      <td>0</td>\n",
       "      <td>1</td>\n",
       "      <td>0</td>\n",
       "      <td>0</td>\n",
       "      <td>11.73</td>\n",
       "      <td>136.06</td>\n",
       "      <td>147.79</td>\n",
       "      <td>0</td>\n",
       "    </tr>\n",
       "    <tr>\n",
       "      <th>19623</th>\n",
       "      <td>Customer19624</td>\n",
       "      <td>80</td>\n",
       "      <td>22</td>\n",
       "      <td>5226.88</td>\n",
       "      <td>8</td>\n",
       "      <td>901089</td>\n",
       "      <td>22.000000</td>\n",
       "      <td>11</td>\n",
       "      <td>0</td>\n",
       "      <td>0</td>\n",
       "      <td>...</td>\n",
       "      <td>0</td>\n",
       "      <td>3</td>\n",
       "      <td>1</td>\n",
       "      <td>0</td>\n",
       "      <td>0</td>\n",
       "      <td>0</td>\n",
       "      <td>1163.17</td>\n",
       "      <td>4051.86</td>\n",
       "      <td>5215.03</td>\n",
       "      <td>0</td>\n",
       "    </tr>\n",
       "    <tr>\n",
       "      <th>34013</th>\n",
       "      <td>Customer34014</td>\n",
       "      <td>66</td>\n",
       "      <td>16</td>\n",
       "      <td>2217.41</td>\n",
       "      <td>17</td>\n",
       "      <td>996108</td>\n",
       "      <td>14.769231</td>\n",
       "      <td>13</td>\n",
       "      <td>0</td>\n",
       "      <td>0</td>\n",
       "      <td>...</td>\n",
       "      <td>0</td>\n",
       "      <td>1</td>\n",
       "      <td>1</td>\n",
       "      <td>0</td>\n",
       "      <td>0</td>\n",
       "      <td>0</td>\n",
       "      <td>461.93</td>\n",
       "      <td>1775.59</td>\n",
       "      <td>2237.52</td>\n",
       "      <td>0</td>\n",
       "    </tr>\n",
       "    <tr>\n",
       "      <th>36393</th>\n",
       "      <td>Customer36394</td>\n",
       "      <td>85</td>\n",
       "      <td>27</td>\n",
       "      <td>2724.39</td>\n",
       "      <td>4</td>\n",
       "      <td>933940</td>\n",
       "      <td>21.909091</td>\n",
       "      <td>7</td>\n",
       "      <td>0</td>\n",
       "      <td>0</td>\n",
       "      <td>...</td>\n",
       "      <td>1</td>\n",
       "      <td>3</td>\n",
       "      <td>1</td>\n",
       "      <td>0</td>\n",
       "      <td>0</td>\n",
       "      <td>0</td>\n",
       "      <td>776.37</td>\n",
       "      <td>1966.79</td>\n",
       "      <td>2743.16</td>\n",
       "      <td>0</td>\n",
       "    </tr>\n",
       "    <tr>\n",
       "      <th>37512</th>\n",
       "      <td>Customer37513</td>\n",
       "      <td>30</td>\n",
       "      <td>16</td>\n",
       "      <td>1614.09</td>\n",
       "      <td>29</td>\n",
       "      <td>992987</td>\n",
       "      <td>20.000000</td>\n",
       "      <td>9</td>\n",
       "      <td>0</td>\n",
       "      <td>0</td>\n",
       "      <td>...</td>\n",
       "      <td>0</td>\n",
       "      <td>0</td>\n",
       "      <td>1</td>\n",
       "      <td>0</td>\n",
       "      <td>0</td>\n",
       "      <td>0</td>\n",
       "      <td>596.12</td>\n",
       "      <td>1019.38</td>\n",
       "      <td>1615.50</td>\n",
       "      <td>1</td>\n",
       "    </tr>\n",
       "  </tbody>\n",
       "</table>\n",
       "<p>5 rows × 33 columns</p>\n",
       "</div>"
      ],
      "text/plain": [
       "         CUSTOMER_ID  TENURE  VISITS  LIFETIME_SPENT  ABSENCE  DRIVE_LIFE  \\\n",
       "12975  Customer12976       3       2          147.79        8      900175   \n",
       "19623  Customer19624      80      22         5226.88        8      901089   \n",
       "34013  Customer34014      66      16         2217.41       17      996108   \n",
       "36393  Customer36394      85      27         2724.39        4      933940   \n",
       "37512  Customer37513      30      16         1614.09       29      992987   \n",
       "\n",
       "       SERVICE_TIME  VEHICLE_AGE  MODEL1  MODEL2  ...  Dissatisfied  \\\n",
       "12975     12.000000            5       0       0  ...             0   \n",
       "19623     22.000000           11       0       0  ...             0   \n",
       "34013     14.769231           13       0       0  ...             0   \n",
       "36393     21.909091            7       0       0  ...             1   \n",
       "37512     20.000000            9       0       0  ...             0   \n",
       "\n",
       "       Satisfied  North  South  East  West  LBR_COST  All_PRTS  Total_Spent  \\\n",
       "12975          0      0      1     0     0     11.73    136.06       147.79   \n",
       "19623          3      1      0     0     0   1163.17   4051.86      5215.03   \n",
       "34013          1      1      0     0     0    461.93   1775.59      2237.52   \n",
       "36393          3      1      0     0     0    776.37   1966.79      2743.16   \n",
       "37512          0      1      0     0     0    596.12   1019.38      1615.50   \n",
       "\n",
       "       Churn  \n",
       "12975      0  \n",
       "19623      0  \n",
       "34013      0  \n",
       "36393      0  \n",
       "37512      1  \n",
       "\n",
       "[5 rows x 33 columns]"
      ]
     },
     "execution_count": 7,
     "metadata": {},
     "output_type": "execute_result"
    }
   ],
   "source": [
    "df_basedata_train_0[df_basedata_train_0['DRIVE_LIFE']>900000].head()"
   ]
  },
  {
   "cell_type": "code",
   "execution_count": 8,
   "metadata": {},
   "outputs": [
    {
     "name": "stdout",
     "output_type": "stream",
     "text": [
      "Train Data Size:  (74488, 33)\n"
     ]
    }
   ],
   "source": [
    "# data size\n",
    "print(\"Train Data Size: \", df_basedata_train_0.shape)"
   ]
  },
  {
   "cell_type": "code",
   "execution_count": 9,
   "metadata": {},
   "outputs": [
    {
     "data": {
      "text/plain": [
       "CUSTOMER_ID        0\n",
       "TENURE             0\n",
       "VISITS             0\n",
       "LIFETIME_SPENT     0\n",
       "ABSENCE            0\n",
       "DRIVE_LIFE         0\n",
       "SERVICE_TIME       0\n",
       "VEHICLE_AGE        0\n",
       "MODEL1             0\n",
       "MODEL2             0\n",
       "MODEL3             0\n",
       "MODEL4             0\n",
       "MODEL5             0\n",
       "MODEL6             0\n",
       "MODEL7             0\n",
       "MODEL8             0\n",
       "MODEL9             0\n",
       "MODEL10            0\n",
       "MODEL11            0\n",
       "FUEL_TYPE          0\n",
       "USED_VEH           0\n",
       "ESB_ACTIVE         0\n",
       "Latest_Feedback    0\n",
       "Dissatisfied       0\n",
       "Satisfied          0\n",
       "North              0\n",
       "South              0\n",
       "East               0\n",
       "West               0\n",
       "LBR_COST           0\n",
       "All_PRTS           0\n",
       "Total_Spent        0\n",
       "Churn              0\n",
       "dtype: int64"
      ]
     },
     "execution_count": 9,
     "metadata": {},
     "output_type": "execute_result"
    }
   ],
   "source": [
    "# Show if any NAN data\n",
    "df_basedata_train_0.isnull().sum()"
   ]
  },
  {
   "cell_type": "code",
   "execution_count": 10,
   "metadata": {},
   "outputs": [],
   "source": [
    "df_basedata_train_1 = df_basedata_train_0.copy()"
   ]
  },
  {
   "cell_type": "code",
   "execution_count": 11,
   "metadata": {},
   "outputs": [],
   "source": [
    "df_basedata_train_1.drop(['CUSTOMER_ID'], axis=1, inplace=True)"
   ]
  },
  {
   "cell_type": "code",
   "execution_count": 12,
   "metadata": {},
   "outputs": [
    {
     "data": {
      "text/html": [
       "<div>\n",
       "<style scoped>\n",
       "    .dataframe tbody tr th:only-of-type {\n",
       "        vertical-align: middle;\n",
       "    }\n",
       "\n",
       "    .dataframe tbody tr th {\n",
       "        vertical-align: top;\n",
       "    }\n",
       "\n",
       "    .dataframe thead th {\n",
       "        text-align: right;\n",
       "    }\n",
       "</style>\n",
       "<table border=\"1\" class=\"dataframe\">\n",
       "  <thead>\n",
       "    <tr style=\"text-align: right;\">\n",
       "      <th></th>\n",
       "      <th>TENURE</th>\n",
       "      <th>VISITS</th>\n",
       "      <th>LIFETIME_SPENT</th>\n",
       "      <th>ABSENCE</th>\n",
       "      <th>DRIVE_LIFE</th>\n",
       "      <th>SERVICE_TIME</th>\n",
       "      <th>VEHICLE_AGE</th>\n",
       "      <th>MODEL1</th>\n",
       "      <th>MODEL2</th>\n",
       "      <th>MODEL3</th>\n",
       "      <th>...</th>\n",
       "      <th>Dissatisfied</th>\n",
       "      <th>Satisfied</th>\n",
       "      <th>North</th>\n",
       "      <th>South</th>\n",
       "      <th>East</th>\n",
       "      <th>West</th>\n",
       "      <th>LBR_COST</th>\n",
       "      <th>All_PRTS</th>\n",
       "      <th>Total_Spent</th>\n",
       "      <th>Churn</th>\n",
       "    </tr>\n",
       "  </thead>\n",
       "  <tbody>\n",
       "    <tr>\n",
       "      <th>0</th>\n",
       "      <td>43</td>\n",
       "      <td>18</td>\n",
       "      <td>6940.05</td>\n",
       "      <td>15</td>\n",
       "      <td>108885</td>\n",
       "      <td>9.470588</td>\n",
       "      <td>5</td>\n",
       "      <td>0</td>\n",
       "      <td>0</td>\n",
       "      <td>0</td>\n",
       "      <td>...</td>\n",
       "      <td>0</td>\n",
       "      <td>0</td>\n",
       "      <td>0</td>\n",
       "      <td>1</td>\n",
       "      <td>0</td>\n",
       "      <td>0</td>\n",
       "      <td>356.18</td>\n",
       "      <td>615.19</td>\n",
       "      <td>971.37</td>\n",
       "      <td>0</td>\n",
       "    </tr>\n",
       "    <tr>\n",
       "      <th>1</th>\n",
       "      <td>0</td>\n",
       "      <td>1</td>\n",
       "      <td>0.00</td>\n",
       "      <td>19</td>\n",
       "      <td>2190</td>\n",
       "      <td>13.000000</td>\n",
       "      <td>1</td>\n",
       "      <td>0</td>\n",
       "      <td>0</td>\n",
       "      <td>0</td>\n",
       "      <td>...</td>\n",
       "      <td>0</td>\n",
       "      <td>0</td>\n",
       "      <td>1</td>\n",
       "      <td>0</td>\n",
       "      <td>0</td>\n",
       "      <td>0</td>\n",
       "      <td>0.00</td>\n",
       "      <td>0.00</td>\n",
       "      <td>0.00</td>\n",
       "      <td>1</td>\n",
       "    </tr>\n",
       "    <tr>\n",
       "      <th>2</th>\n",
       "      <td>4</td>\n",
       "      <td>2</td>\n",
       "      <td>188.69</td>\n",
       "      <td>14</td>\n",
       "      <td>10985</td>\n",
       "      <td>15.000000</td>\n",
       "      <td>2</td>\n",
       "      <td>0</td>\n",
       "      <td>0</td>\n",
       "      <td>0</td>\n",
       "      <td>...</td>\n",
       "      <td>0</td>\n",
       "      <td>0</td>\n",
       "      <td>0</td>\n",
       "      <td>0</td>\n",
       "      <td>0</td>\n",
       "      <td>1</td>\n",
       "      <td>21.54</td>\n",
       "      <td>36.94</td>\n",
       "      <td>58.48</td>\n",
       "      <td>0</td>\n",
       "    </tr>\n",
       "    <tr>\n",
       "      <th>3</th>\n",
       "      <td>76</td>\n",
       "      <td>22</td>\n",
       "      <td>2824.07</td>\n",
       "      <td>13</td>\n",
       "      <td>122068</td>\n",
       "      <td>17.909091</td>\n",
       "      <td>9</td>\n",
       "      <td>0</td>\n",
       "      <td>1</td>\n",
       "      <td>0</td>\n",
       "      <td>...</td>\n",
       "      <td>0</td>\n",
       "      <td>0</td>\n",
       "      <td>1</td>\n",
       "      <td>0</td>\n",
       "      <td>0</td>\n",
       "      <td>0</td>\n",
       "      <td>786.68</td>\n",
       "      <td>1956.51</td>\n",
       "      <td>2743.19</td>\n",
       "      <td>0</td>\n",
       "    </tr>\n",
       "    <tr>\n",
       "      <th>4</th>\n",
       "      <td>39</td>\n",
       "      <td>10</td>\n",
       "      <td>676.35</td>\n",
       "      <td>5</td>\n",
       "      <td>56123</td>\n",
       "      <td>10.600000</td>\n",
       "      <td>6</td>\n",
       "      <td>0</td>\n",
       "      <td>0</td>\n",
       "      <td>0</td>\n",
       "      <td>...</td>\n",
       "      <td>2</td>\n",
       "      <td>2</td>\n",
       "      <td>0</td>\n",
       "      <td>0</td>\n",
       "      <td>1</td>\n",
       "      <td>0</td>\n",
       "      <td>301.36</td>\n",
       "      <td>386.42</td>\n",
       "      <td>687.78</td>\n",
       "      <td>0</td>\n",
       "    </tr>\n",
       "  </tbody>\n",
       "</table>\n",
       "<p>5 rows × 32 columns</p>\n",
       "</div>"
      ],
      "text/plain": [
       "   TENURE  VISITS  LIFETIME_SPENT  ABSENCE  DRIVE_LIFE  SERVICE_TIME  \\\n",
       "0      43      18         6940.05       15      108885      9.470588   \n",
       "1       0       1            0.00       19        2190     13.000000   \n",
       "2       4       2          188.69       14       10985     15.000000   \n",
       "3      76      22         2824.07       13      122068     17.909091   \n",
       "4      39      10          676.35        5       56123     10.600000   \n",
       "\n",
       "   VEHICLE_AGE  MODEL1  MODEL2  MODEL3  ...  Dissatisfied  Satisfied  North  \\\n",
       "0            5       0       0       0  ...             0          0      0   \n",
       "1            1       0       0       0  ...             0          0      1   \n",
       "2            2       0       0       0  ...             0          0      0   \n",
       "3            9       0       1       0  ...             0          0      1   \n",
       "4            6       0       0       0  ...             2          2      0   \n",
       "\n",
       "   South  East  West  LBR_COST  All_PRTS  Total_Spent  Churn  \n",
       "0      1     0     0    356.18    615.19       971.37      0  \n",
       "1      0     0     0      0.00      0.00         0.00      1  \n",
       "2      0     0     1     21.54     36.94        58.48      0  \n",
       "3      0     0     0    786.68   1956.51      2743.19      0  \n",
       "4      0     1     0    301.36    386.42       687.78      0  \n",
       "\n",
       "[5 rows x 32 columns]"
      ]
     },
     "execution_count": 12,
     "metadata": {},
     "output_type": "execute_result"
    }
   ],
   "source": [
    "df_basedata_train_1.head()"
   ]
  },
  {
   "cell_type": "code",
   "execution_count": 13,
   "metadata": {},
   "outputs": [
    {
     "data": {
      "text/plain": [
       "(74488, 32)"
      ]
     },
     "execution_count": 13,
     "metadata": {},
     "output_type": "execute_result"
    }
   ],
   "source": [
    "df_basedata_train_1.shape"
   ]
  },
  {
   "cell_type": "code",
   "execution_count": 14,
   "metadata": {},
   "outputs": [
    {
     "data": {
      "text/plain": [
       "pandas.core.frame.DataFrame"
      ]
     },
     "execution_count": 14,
     "metadata": {},
     "output_type": "execute_result"
    }
   ],
   "source": [
    "type(df_basedata_train_1)"
   ]
  },
  {
   "cell_type": "code",
   "execution_count": 15,
   "metadata": {},
   "outputs": [
    {
     "data": {
      "text/plain": [
       "<AxesSubplot:>"
      ]
     },
     "execution_count": 15,
     "metadata": {},
     "output_type": "execute_result"
    },
    {
     "data": {
      "image/png": "[encoded data removed]",
      "text/plain": [
       "<Figure size 1440x1440 with 2 Axes>"
      ]
     },
     "metadata": {
      "needs_background": "light"
     },
     "output_type": "display_data"
    }
   ],
   "source": [
    "\n",
    "f,ax = plt.subplots(figsize=(20, 20))\n",
    "sns.heatmap(df_basedata_train_1.corr(), annot=True, linewidths=1, fmt='.2f',ax=ax)\n",
    "#ax.set_ylim(10, 0)"
   ]
  },
  {
   "cell_type": "code",
   "execution_count": 16,
   "metadata": {},
   "outputs": [],
   "source": [
    "modeling_data = df_basedata_train_1.iloc[:60000]\n",
    "validate_data = df_basedata_train_1.iloc[60000:]"
   ]
  },
  {
   "cell_type": "code",
   "execution_count": 17,
   "metadata": {},
   "outputs": [
    {
     "data": {
      "text/html": [
       "<div>\n",
       "<style scoped>\n",
       "    .dataframe tbody tr th:only-of-type {\n",
       "        vertical-align: middle;\n",
       "    }\n",
       "\n",
       "    .dataframe tbody tr th {\n",
       "        vertical-align: top;\n",
       "    }\n",
       "\n",
       "    .dataframe thead th {\n",
       "        text-align: right;\n",
       "    }\n",
       "</style>\n",
       "<table border=\"1\" class=\"dataframe\">\n",
       "  <thead>\n",
       "    <tr style=\"text-align: right;\">\n",
       "      <th></th>\n",
       "      <th>TENURE</th>\n",
       "      <th>VISITS</th>\n",
       "      <th>LIFETIME_SPENT</th>\n",
       "      <th>ABSENCE</th>\n",
       "      <th>DRIVE_LIFE</th>\n",
       "      <th>SERVICE_TIME</th>\n",
       "      <th>VEHICLE_AGE</th>\n",
       "      <th>MODEL1</th>\n",
       "      <th>MODEL2</th>\n",
       "      <th>MODEL3</th>\n",
       "      <th>...</th>\n",
       "      <th>Dissatisfied</th>\n",
       "      <th>Satisfied</th>\n",
       "      <th>North</th>\n",
       "      <th>South</th>\n",
       "      <th>East</th>\n",
       "      <th>West</th>\n",
       "      <th>LBR_COST</th>\n",
       "      <th>All_PRTS</th>\n",
       "      <th>Total_Spent</th>\n",
       "      <th>Churn</th>\n",
       "    </tr>\n",
       "  </thead>\n",
       "  <tbody>\n",
       "    <tr>\n",
       "      <th>0</th>\n",
       "      <td>43</td>\n",
       "      <td>18</td>\n",
       "      <td>6940.05</td>\n",
       "      <td>15</td>\n",
       "      <td>108885</td>\n",
       "      <td>9.470588</td>\n",
       "      <td>5</td>\n",
       "      <td>0</td>\n",
       "      <td>0</td>\n",
       "      <td>0</td>\n",
       "      <td>...</td>\n",
       "      <td>0</td>\n",
       "      <td>0</td>\n",
       "      <td>0</td>\n",
       "      <td>1</td>\n",
       "      <td>0</td>\n",
       "      <td>0</td>\n",
       "      <td>356.18</td>\n",
       "      <td>615.19</td>\n",
       "      <td>971.37</td>\n",
       "      <td>0</td>\n",
       "    </tr>\n",
       "    <tr>\n",
       "      <th>1</th>\n",
       "      <td>0</td>\n",
       "      <td>1</td>\n",
       "      <td>0.00</td>\n",
       "      <td>19</td>\n",
       "      <td>2190</td>\n",
       "      <td>13.000000</td>\n",
       "      <td>1</td>\n",
       "      <td>0</td>\n",
       "      <td>0</td>\n",
       "      <td>0</td>\n",
       "      <td>...</td>\n",
       "      <td>0</td>\n",
       "      <td>0</td>\n",
       "      <td>1</td>\n",
       "      <td>0</td>\n",
       "      <td>0</td>\n",
       "      <td>0</td>\n",
       "      <td>0.00</td>\n",
       "      <td>0.00</td>\n",
       "      <td>0.00</td>\n",
       "      <td>1</td>\n",
       "    </tr>\n",
       "    <tr>\n",
       "      <th>2</th>\n",
       "      <td>4</td>\n",
       "      <td>2</td>\n",
       "      <td>188.69</td>\n",
       "      <td>14</td>\n",
       "      <td>10985</td>\n",
       "      <td>15.000000</td>\n",
       "      <td>2</td>\n",
       "      <td>0</td>\n",
       "      <td>0</td>\n",
       "      <td>0</td>\n",
       "      <td>...</td>\n",
       "      <td>0</td>\n",
       "      <td>0</td>\n",
       "      <td>0</td>\n",
       "      <td>0</td>\n",
       "      <td>0</td>\n",
       "      <td>1</td>\n",
       "      <td>21.54</td>\n",
       "      <td>36.94</td>\n",
       "      <td>58.48</td>\n",
       "      <td>0</td>\n",
       "    </tr>\n",
       "    <tr>\n",
       "      <th>3</th>\n",
       "      <td>76</td>\n",
       "      <td>22</td>\n",
       "      <td>2824.07</td>\n",
       "      <td>13</td>\n",
       "      <td>122068</td>\n",
       "      <td>17.909091</td>\n",
       "      <td>9</td>\n",
       "      <td>0</td>\n",
       "      <td>1</td>\n",
       "      <td>0</td>\n",
       "      <td>...</td>\n",
       "      <td>0</td>\n",
       "      <td>0</td>\n",
       "      <td>1</td>\n",
       "      <td>0</td>\n",
       "      <td>0</td>\n",
       "      <td>0</td>\n",
       "      <td>786.68</td>\n",
       "      <td>1956.51</td>\n",
       "      <td>2743.19</td>\n",
       "      <td>0</td>\n",
       "    </tr>\n",
       "    <tr>\n",
       "      <th>4</th>\n",
       "      <td>39</td>\n",
       "      <td>10</td>\n",
       "      <td>676.35</td>\n",
       "      <td>5</td>\n",
       "      <td>56123</td>\n",
       "      <td>10.600000</td>\n",
       "      <td>6</td>\n",
       "      <td>0</td>\n",
       "      <td>0</td>\n",
       "      <td>0</td>\n",
       "      <td>...</td>\n",
       "      <td>2</td>\n",
       "      <td>2</td>\n",
       "      <td>0</td>\n",
       "      <td>0</td>\n",
       "      <td>1</td>\n",
       "      <td>0</td>\n",
       "      <td>301.36</td>\n",
       "      <td>386.42</td>\n",
       "      <td>687.78</td>\n",
       "      <td>0</td>\n",
       "    </tr>\n",
       "  </tbody>\n",
       "</table>\n",
       "<p>5 rows × 32 columns</p>\n",
       "</div>"
      ],
      "text/plain": [
       "   TENURE  VISITS  LIFETIME_SPENT  ABSENCE  DRIVE_LIFE  SERVICE_TIME  \\\n",
       "0      43      18         6940.05       15      108885      9.470588   \n",
       "1       0       1            0.00       19        2190     13.000000   \n",
       "2       4       2          188.69       14       10985     15.000000   \n",
       "3      76      22         2824.07       13      122068     17.909091   \n",
       "4      39      10          676.35        5       56123     10.600000   \n",
       "\n",
       "   VEHICLE_AGE  MODEL1  MODEL2  MODEL3  ...  Dissatisfied  Satisfied  North  \\\n",
       "0            5       0       0       0  ...             0          0      0   \n",
       "1            1       0       0       0  ...             0          0      1   \n",
       "2            2       0       0       0  ...             0          0      0   \n",
       "3            9       0       1       0  ...             0          0      1   \n",
       "4            6       0       0       0  ...             2          2      0   \n",
       "\n",
       "   South  East  West  LBR_COST  All_PRTS  Total_Spent  Churn  \n",
       "0      1     0     0    356.18    615.19       971.37      0  \n",
       "1      0     0     0      0.00      0.00         0.00      1  \n",
       "2      0     0     1     21.54     36.94        58.48      0  \n",
       "3      0     0     0    786.68   1956.51      2743.19      0  \n",
       "4      0     1     0    301.36    386.42       687.78      0  \n",
       "\n",
       "[5 rows x 32 columns]"
      ]
     },
     "execution_count": 17,
     "metadata": {},
     "output_type": "execute_result"
    }
   ],
   "source": [
    "modeling_data.head()"
   ]
  },
  {
   "cell_type": "code",
   "execution_count": 18,
   "metadata": {},
   "outputs": [
    {
     "data": {
      "text/plain": [
       "(60000, 32)"
      ]
     },
     "execution_count": 18,
     "metadata": {},
     "output_type": "execute_result"
    }
   ],
   "source": [
    "modeling_data.shape"
   ]
  },
  {
   "cell_type": "code",
   "execution_count": 19,
   "metadata": {},
   "outputs": [
    {
     "data": {
      "text/plain": [
       "(14488, 32)"
      ]
     },
     "execution_count": 19,
     "metadata": {},
     "output_type": "execute_result"
    }
   ],
   "source": [
    "validate_data.shape"
   ]
  },
  {
   "cell_type": "code",
   "execution_count": 20,
   "metadata": {},
   "outputs": [
    {
     "data": {
      "text/plain": [
       "pandas.core.frame.DataFrame"
      ]
     },
     "execution_count": 20,
     "metadata": {},
     "output_type": "execute_result"
    }
   ],
   "source": [
    "type(modeling_data)"
   ]
  },
  {
   "cell_type": "markdown",
   "metadata": {},
   "source": [
    "<h1 style=\"color:DodgerBlue;\">Data Preparation</h1>"
   ]
  },
  {
   "cell_type": "code",
   "execution_count": 21,
   "metadata": {},
   "outputs": [],
   "source": [
    "# Machine Learning \n",
    "\n",
    "X = modeling_data.drop(\"Churn\", axis=1)\n",
    "y = modeling_data[\"Churn\"]"
   ]
  },
  {
   "cell_type": "code",
   "execution_count": 22,
   "metadata": {},
   "outputs": [],
   "source": [
    "from sklearn.model_selection import train_test_split, cross_val_score\n",
    "\n",
    "from sklearn.preprocessing import StandardScaler\n",
    "\n",
    "from xgboost import XGBClassifier\n",
    "from sklearn.naive_bayes import GaussianNB\n",
    "from sklearn.svm import SVC\n",
    "\n",
    "from sklearn.metrics import accuracy_score\n"
   ]
  },
  {
   "cell_type": "code",
   "execution_count": 23,
   "metadata": {},
   "outputs": [],
   "source": [
    "# Split data to 80% training data and 20% of test to check the accuracy of our model\n",
    "X_train, X_test, y_train, y_test = train_test_split(X, y, test_size=0.25, random_state=0)"
   ]
  },
  {
   "cell_type": "code",
   "execution_count": 24,
   "metadata": {},
   "outputs": [],
   "source": [
    "#modeling_data\n",
    "\n",
    "# Machine Learning \n",
    "FI_predictor = modeling_data.drop(['Churn'], 1)\n",
    "FI_target = modeling_data['Churn']"
   ]
  },
  {
   "cell_type": "code",
   "execution_count": 25,
   "metadata": {},
   "outputs": [
    {
     "data": {
      "text/html": [
       "<div>\n",
       "<style scoped>\n",
       "    .dataframe tbody tr th:only-of-type {\n",
       "        vertical-align: middle;\n",
       "    }\n",
       "\n",
       "    .dataframe tbody tr th {\n",
       "        vertical-align: top;\n",
       "    }\n",
       "\n",
       "    .dataframe thead th {\n",
       "        text-align: right;\n",
       "    }\n",
       "</style>\n",
       "<table border=\"1\" class=\"dataframe\">\n",
       "  <thead>\n",
       "    <tr style=\"text-align: right;\">\n",
       "      <th></th>\n",
       "      <th>TENURE</th>\n",
       "      <th>VISITS</th>\n",
       "      <th>LIFETIME_SPENT</th>\n",
       "      <th>ABSENCE</th>\n",
       "      <th>DRIVE_LIFE</th>\n",
       "      <th>SERVICE_TIME</th>\n",
       "      <th>VEHICLE_AGE</th>\n",
       "      <th>MODEL1</th>\n",
       "      <th>MODEL2</th>\n",
       "      <th>MODEL3</th>\n",
       "      <th>...</th>\n",
       "      <th>Latest_Feedback</th>\n",
       "      <th>Dissatisfied</th>\n",
       "      <th>Satisfied</th>\n",
       "      <th>North</th>\n",
       "      <th>South</th>\n",
       "      <th>East</th>\n",
       "      <th>West</th>\n",
       "      <th>LBR_COST</th>\n",
       "      <th>All_PRTS</th>\n",
       "      <th>Total_Spent</th>\n",
       "    </tr>\n",
       "  </thead>\n",
       "  <tbody>\n",
       "    <tr>\n",
       "      <th>0</th>\n",
       "      <td>43</td>\n",
       "      <td>18</td>\n",
       "      <td>6940.05</td>\n",
       "      <td>15</td>\n",
       "      <td>108885</td>\n",
       "      <td>9.470588</td>\n",
       "      <td>5</td>\n",
       "      <td>0</td>\n",
       "      <td>0</td>\n",
       "      <td>0</td>\n",
       "      <td>...</td>\n",
       "      <td>0</td>\n",
       "      <td>0</td>\n",
       "      <td>0</td>\n",
       "      <td>0</td>\n",
       "      <td>1</td>\n",
       "      <td>0</td>\n",
       "      <td>0</td>\n",
       "      <td>356.18</td>\n",
       "      <td>615.19</td>\n",
       "      <td>971.37</td>\n",
       "    </tr>\n",
       "    <tr>\n",
       "      <th>1</th>\n",
       "      <td>0</td>\n",
       "      <td>1</td>\n",
       "      <td>0.00</td>\n",
       "      <td>19</td>\n",
       "      <td>2190</td>\n",
       "      <td>13.000000</td>\n",
       "      <td>1</td>\n",
       "      <td>0</td>\n",
       "      <td>0</td>\n",
       "      <td>0</td>\n",
       "      <td>...</td>\n",
       "      <td>0</td>\n",
       "      <td>0</td>\n",
       "      <td>0</td>\n",
       "      <td>1</td>\n",
       "      <td>0</td>\n",
       "      <td>0</td>\n",
       "      <td>0</td>\n",
       "      <td>0.00</td>\n",
       "      <td>0.00</td>\n",
       "      <td>0.00</td>\n",
       "    </tr>\n",
       "    <tr>\n",
       "      <th>2</th>\n",
       "      <td>4</td>\n",
       "      <td>2</td>\n",
       "      <td>188.69</td>\n",
       "      <td>14</td>\n",
       "      <td>10985</td>\n",
       "      <td>15.000000</td>\n",
       "      <td>2</td>\n",
       "      <td>0</td>\n",
       "      <td>0</td>\n",
       "      <td>0</td>\n",
       "      <td>...</td>\n",
       "      <td>0</td>\n",
       "      <td>0</td>\n",
       "      <td>0</td>\n",
       "      <td>0</td>\n",
       "      <td>0</td>\n",
       "      <td>0</td>\n",
       "      <td>1</td>\n",
       "      <td>21.54</td>\n",
       "      <td>36.94</td>\n",
       "      <td>58.48</td>\n",
       "    </tr>\n",
       "    <tr>\n",
       "      <th>3</th>\n",
       "      <td>76</td>\n",
       "      <td>22</td>\n",
       "      <td>2824.07</td>\n",
       "      <td>13</td>\n",
       "      <td>122068</td>\n",
       "      <td>17.909091</td>\n",
       "      <td>9</td>\n",
       "      <td>0</td>\n",
       "      <td>1</td>\n",
       "      <td>0</td>\n",
       "      <td>...</td>\n",
       "      <td>0</td>\n",
       "      <td>0</td>\n",
       "      <td>0</td>\n",
       "      <td>1</td>\n",
       "      <td>0</td>\n",
       "      <td>0</td>\n",
       "      <td>0</td>\n",
       "      <td>786.68</td>\n",
       "      <td>1956.51</td>\n",
       "      <td>2743.19</td>\n",
       "    </tr>\n",
       "    <tr>\n",
       "      <th>4</th>\n",
       "      <td>39</td>\n",
       "      <td>10</td>\n",
       "      <td>676.35</td>\n",
       "      <td>5</td>\n",
       "      <td>56123</td>\n",
       "      <td>10.600000</td>\n",
       "      <td>6</td>\n",
       "      <td>0</td>\n",
       "      <td>0</td>\n",
       "      <td>0</td>\n",
       "      <td>...</td>\n",
       "      <td>1</td>\n",
       "      <td>2</td>\n",
       "      <td>2</td>\n",
       "      <td>0</td>\n",
       "      <td>0</td>\n",
       "      <td>1</td>\n",
       "      <td>0</td>\n",
       "      <td>301.36</td>\n",
       "      <td>386.42</td>\n",
       "      <td>687.78</td>\n",
       "    </tr>\n",
       "  </tbody>\n",
       "</table>\n",
       "<p>5 rows × 31 columns</p>\n",
       "</div>"
      ],
      "text/plain": [
       "   TENURE  VISITS  LIFETIME_SPENT  ABSENCE  DRIVE_LIFE  SERVICE_TIME  \\\n",
       "0      43      18         6940.05       15      108885      9.470588   \n",
       "1       0       1            0.00       19        2190     13.000000   \n",
       "2       4       2          188.69       14       10985     15.000000   \n",
       "3      76      22         2824.07       13      122068     17.909091   \n",
       "4      39      10          676.35        5       56123     10.600000   \n",
       "\n",
       "   VEHICLE_AGE  MODEL1  MODEL2  MODEL3  ...  Latest_Feedback  Dissatisfied  \\\n",
       "0            5       0       0       0  ...                0             0   \n",
       "1            1       0       0       0  ...                0             0   \n",
       "2            2       0       0       0  ...                0             0   \n",
       "3            9       0       1       0  ...                0             0   \n",
       "4            6       0       0       0  ...                1             2   \n",
       "\n",
       "   Satisfied  North  South  East  West  LBR_COST  All_PRTS  Total_Spent  \n",
       "0          0      0      1     0     0    356.18    615.19       971.37  \n",
       "1          0      1      0     0     0      0.00      0.00         0.00  \n",
       "2          0      0      0     0     1     21.54     36.94        58.48  \n",
       "3          0      1      0     0     0    786.68   1956.51      2743.19  \n",
       "4          2      0      0     1     0    301.36    386.42       687.78  \n",
       "\n",
       "[5 rows x 31 columns]"
      ]
     },
     "execution_count": 25,
     "metadata": {},
     "output_type": "execute_result"
    }
   ],
   "source": [
    "FI_predictor.head()"
   ]
  },
  {
   "cell_type": "code",
   "execution_count": 26,
   "metadata": {},
   "outputs": [
    {
     "data": {
      "text/plain": [
       "<AxesSubplot:ylabel='feature'>"
      ]
     },
     "execution_count": 26,
     "metadata": {},
     "output_type": "execute_result"
    },
    {
     "data": {
      "image/png": "[encoded data removed]",
      "text/plain": [
       "<Figure size 720x720 with 1 Axes>"
      ]
     },
     "metadata": {
      "needs_background": "light"
     },
     "output_type": "display_data"
    }
   ],
   "source": [
    "from sklearn.ensemble import RandomForestClassifier\n",
    "\n",
    "clf = RandomForestClassifier(n_estimators=50, max_features='sqrt')\n",
    "clf = clf.fit(FI_predictor, FI_target)\n",
    "\n",
    "#have a look at the importance of each feature.\n",
    "features = pd.DataFrame()\n",
    "features['feature'] = FI_predictor.columns\n",
    "features['importance'] = clf.feature_importances_\n",
    "features.sort_values(by=['importance'], ascending=True, inplace=True)\n",
    "features.set_index('feature', inplace=True)\n",
    "\n",
    "features.plot(kind='barh', figsize=(10, 10))"
   ]
  },
  {
   "cell_type": "code",
   "execution_count": 27,
   "metadata": {},
   "outputs": [],
   "source": [
    "modeling_data_2 = modeling_data.copy()"
   ]
  },
  {
   "cell_type": "code",
   "execution_count": 28,
   "metadata": {},
   "outputs": [
    {
     "data": {
      "text/html": [
       "<div>\n",
       "<style scoped>\n",
       "    .dataframe tbody tr th:only-of-type {\n",
       "        vertical-align: middle;\n",
       "    }\n",
       "\n",
       "    .dataframe tbody tr th {\n",
       "        vertical-align: top;\n",
       "    }\n",
       "\n",
       "    .dataframe thead th {\n",
       "        text-align: right;\n",
       "    }\n",
       "</style>\n",
       "<table border=\"1\" class=\"dataframe\">\n",
       "  <thead>\n",
       "    <tr style=\"text-align: right;\">\n",
       "      <th></th>\n",
       "      <th>TENURE</th>\n",
       "      <th>VISITS</th>\n",
       "      <th>LIFETIME_SPENT</th>\n",
       "      <th>ABSENCE</th>\n",
       "      <th>DRIVE_LIFE</th>\n",
       "      <th>SERVICE_TIME</th>\n",
       "      <th>VEHICLE_AGE</th>\n",
       "      <th>MODEL1</th>\n",
       "      <th>MODEL2</th>\n",
       "      <th>MODEL3</th>\n",
       "      <th>...</th>\n",
       "      <th>Dissatisfied</th>\n",
       "      <th>Satisfied</th>\n",
       "      <th>North</th>\n",
       "      <th>South</th>\n",
       "      <th>East</th>\n",
       "      <th>West</th>\n",
       "      <th>LBR_COST</th>\n",
       "      <th>All_PRTS</th>\n",
       "      <th>Total_Spent</th>\n",
       "      <th>Churn</th>\n",
       "    </tr>\n",
       "  </thead>\n",
       "  <tbody>\n",
       "    <tr>\n",
       "      <th>0</th>\n",
       "      <td>43</td>\n",
       "      <td>18</td>\n",
       "      <td>6940.05</td>\n",
       "      <td>15</td>\n",
       "      <td>108885</td>\n",
       "      <td>9.470588</td>\n",
       "      <td>5</td>\n",
       "      <td>0</td>\n",
       "      <td>0</td>\n",
       "      <td>0</td>\n",
       "      <td>...</td>\n",
       "      <td>0</td>\n",
       "      <td>0</td>\n",
       "      <td>0</td>\n",
       "      <td>1</td>\n",
       "      <td>0</td>\n",
       "      <td>0</td>\n",
       "      <td>356.18</td>\n",
       "      <td>615.19</td>\n",
       "      <td>971.37</td>\n",
       "      <td>0</td>\n",
       "    </tr>\n",
       "    <tr>\n",
       "      <th>1</th>\n",
       "      <td>0</td>\n",
       "      <td>1</td>\n",
       "      <td>0.00</td>\n",
       "      <td>19</td>\n",
       "      <td>2190</td>\n",
       "      <td>13.000000</td>\n",
       "      <td>1</td>\n",
       "      <td>0</td>\n",
       "      <td>0</td>\n",
       "      <td>0</td>\n",
       "      <td>...</td>\n",
       "      <td>0</td>\n",
       "      <td>0</td>\n",
       "      <td>1</td>\n",
       "      <td>0</td>\n",
       "      <td>0</td>\n",
       "      <td>0</td>\n",
       "      <td>0.00</td>\n",
       "      <td>0.00</td>\n",
       "      <td>0.00</td>\n",
       "      <td>1</td>\n",
       "    </tr>\n",
       "    <tr>\n",
       "      <th>2</th>\n",
       "      <td>4</td>\n",
       "      <td>2</td>\n",
       "      <td>188.69</td>\n",
       "      <td>14</td>\n",
       "      <td>10985</td>\n",
       "      <td>15.000000</td>\n",
       "      <td>2</td>\n",
       "      <td>0</td>\n",
       "      <td>0</td>\n",
       "      <td>0</td>\n",
       "      <td>...</td>\n",
       "      <td>0</td>\n",
       "      <td>0</td>\n",
       "      <td>0</td>\n",
       "      <td>0</td>\n",
       "      <td>0</td>\n",
       "      <td>1</td>\n",
       "      <td>21.54</td>\n",
       "      <td>36.94</td>\n",
       "      <td>58.48</td>\n",
       "      <td>0</td>\n",
       "    </tr>\n",
       "    <tr>\n",
       "      <th>3</th>\n",
       "      <td>76</td>\n",
       "      <td>22</td>\n",
       "      <td>2824.07</td>\n",
       "      <td>13</td>\n",
       "      <td>122068</td>\n",
       "      <td>17.909091</td>\n",
       "      <td>9</td>\n",
       "      <td>0</td>\n",
       "      <td>1</td>\n",
       "      <td>0</td>\n",
       "      <td>...</td>\n",
       "      <td>0</td>\n",
       "      <td>0</td>\n",
       "      <td>1</td>\n",
       "      <td>0</td>\n",
       "      <td>0</td>\n",
       "      <td>0</td>\n",
       "      <td>786.68</td>\n",
       "      <td>1956.51</td>\n",
       "      <td>2743.19</td>\n",
       "      <td>0</td>\n",
       "    </tr>\n",
       "    <tr>\n",
       "      <th>4</th>\n",
       "      <td>39</td>\n",
       "      <td>10</td>\n",
       "      <td>676.35</td>\n",
       "      <td>5</td>\n",
       "      <td>56123</td>\n",
       "      <td>10.600000</td>\n",
       "      <td>6</td>\n",
       "      <td>0</td>\n",
       "      <td>0</td>\n",
       "      <td>0</td>\n",
       "      <td>...</td>\n",
       "      <td>2</td>\n",
       "      <td>2</td>\n",
       "      <td>0</td>\n",
       "      <td>0</td>\n",
       "      <td>1</td>\n",
       "      <td>0</td>\n",
       "      <td>301.36</td>\n",
       "      <td>386.42</td>\n",
       "      <td>687.78</td>\n",
       "      <td>0</td>\n",
       "    </tr>\n",
       "  </tbody>\n",
       "</table>\n",
       "<p>5 rows × 32 columns</p>\n",
       "</div>"
      ],
      "text/plain": [
       "   TENURE  VISITS  LIFETIME_SPENT  ABSENCE  DRIVE_LIFE  SERVICE_TIME  \\\n",
       "0      43      18         6940.05       15      108885      9.470588   \n",
       "1       0       1            0.00       19        2190     13.000000   \n",
       "2       4       2          188.69       14       10985     15.000000   \n",
       "3      76      22         2824.07       13      122068     17.909091   \n",
       "4      39      10          676.35        5       56123     10.600000   \n",
       "\n",
       "   VEHICLE_AGE  MODEL1  MODEL2  MODEL3  ...  Dissatisfied  Satisfied  North  \\\n",
       "0            5       0       0       0  ...             0          0      0   \n",
       "1            1       0       0       0  ...             0          0      1   \n",
       "2            2       0       0       0  ...             0          0      0   \n",
       "3            9       0       1       0  ...             0          0      1   \n",
       "4            6       0       0       0  ...             2          2      0   \n",
       "\n",
       "   South  East  West  LBR_COST  All_PRTS  Total_Spent  Churn  \n",
       "0      1     0     0    356.18    615.19       971.37      0  \n",
       "1      0     0     0      0.00      0.00         0.00      1  \n",
       "2      0     0     1     21.54     36.94        58.48      0  \n",
       "3      0     0     0    786.68   1956.51      2743.19      0  \n",
       "4      0     1     0    301.36    386.42       687.78      0  \n",
       "\n",
       "[5 rows x 32 columns]"
      ]
     },
     "execution_count": 28,
     "metadata": {},
     "output_type": "execute_result"
    }
   ],
   "source": [
    "modeling_data_2.head()"
   ]
  },
  {
   "cell_type": "code",
   "execution_count": 29,
   "metadata": {},
   "outputs": [],
   "source": [
    "modeling_data_2.drop(['ABSENCE'], axis=1, inplace=True)"
   ]
  },
  {
   "cell_type": "code",
   "execution_count": 30,
   "metadata": {},
   "outputs": [
    {
     "data": {
      "text/html": [
       "<div>\n",
       "<style scoped>\n",
       "    .dataframe tbody tr th:only-of-type {\n",
       "        vertical-align: middle;\n",
       "    }\n",
       "\n",
       "    .dataframe tbody tr th {\n",
       "        vertical-align: top;\n",
       "    }\n",
       "\n",
       "    .dataframe thead th {\n",
       "        text-align: right;\n",
       "    }\n",
       "</style>\n",
       "<table border=\"1\" class=\"dataframe\">\n",
       "  <thead>\n",
       "    <tr style=\"text-align: right;\">\n",
       "      <th></th>\n",
       "      <th>TENURE</th>\n",
       "      <th>VISITS</th>\n",
       "      <th>LIFETIME_SPENT</th>\n",
       "      <th>DRIVE_LIFE</th>\n",
       "      <th>SERVICE_TIME</th>\n",
       "      <th>VEHICLE_AGE</th>\n",
       "      <th>MODEL1</th>\n",
       "      <th>MODEL2</th>\n",
       "      <th>MODEL3</th>\n",
       "      <th>MODEL4</th>\n",
       "      <th>...</th>\n",
       "      <th>Dissatisfied</th>\n",
       "      <th>Satisfied</th>\n",
       "      <th>North</th>\n",
       "      <th>South</th>\n",
       "      <th>East</th>\n",
       "      <th>West</th>\n",
       "      <th>LBR_COST</th>\n",
       "      <th>All_PRTS</th>\n",
       "      <th>Total_Spent</th>\n",
       "      <th>Churn</th>\n",
       "    </tr>\n",
       "  </thead>\n",
       "  <tbody>\n",
       "    <tr>\n",
       "      <th>0</th>\n",
       "      <td>43</td>\n",
       "      <td>18</td>\n",
       "      <td>6940.05</td>\n",
       "      <td>108885</td>\n",
       "      <td>9.470588</td>\n",
       "      <td>5</td>\n",
       "      <td>0</td>\n",
       "      <td>0</td>\n",
       "      <td>0</td>\n",
       "      <td>0</td>\n",
       "      <td>...</td>\n",
       "      <td>0</td>\n",
       "      <td>0</td>\n",
       "      <td>0</td>\n",
       "      <td>1</td>\n",
       "      <td>0</td>\n",
       "      <td>0</td>\n",
       "      <td>356.18</td>\n",
       "      <td>615.19</td>\n",
       "      <td>971.37</td>\n",
       "      <td>0</td>\n",
       "    </tr>\n",
       "    <tr>\n",
       "      <th>1</th>\n",
       "      <td>0</td>\n",
       "      <td>1</td>\n",
       "      <td>0.00</td>\n",
       "      <td>2190</td>\n",
       "      <td>13.000000</td>\n",
       "      <td>1</td>\n",
       "      <td>0</td>\n",
       "      <td>0</td>\n",
       "      <td>0</td>\n",
       "      <td>0</td>\n",
       "      <td>...</td>\n",
       "      <td>0</td>\n",
       "      <td>0</td>\n",
       "      <td>1</td>\n",
       "      <td>0</td>\n",
       "      <td>0</td>\n",
       "      <td>0</td>\n",
       "      <td>0.00</td>\n",
       "      <td>0.00</td>\n",
       "      <td>0.00</td>\n",
       "      <td>1</td>\n",
       "    </tr>\n",
       "    <tr>\n",
       "      <th>2</th>\n",
       "      <td>4</td>\n",
       "      <td>2</td>\n",
       "      <td>188.69</td>\n",
       "      <td>10985</td>\n",
       "      <td>15.000000</td>\n",
       "      <td>2</td>\n",
       "      <td>0</td>\n",
       "      <td>0</td>\n",
       "      <td>0</td>\n",
       "      <td>0</td>\n",
       "      <td>...</td>\n",
       "      <td>0</td>\n",
       "      <td>0</td>\n",
       "      <td>0</td>\n",
       "      <td>0</td>\n",
       "      <td>0</td>\n",
       "      <td>1</td>\n",
       "      <td>21.54</td>\n",
       "      <td>36.94</td>\n",
       "      <td>58.48</td>\n",
       "      <td>0</td>\n",
       "    </tr>\n",
       "    <tr>\n",
       "      <th>3</th>\n",
       "      <td>76</td>\n",
       "      <td>22</td>\n",
       "      <td>2824.07</td>\n",
       "      <td>122068</td>\n",
       "      <td>17.909091</td>\n",
       "      <td>9</td>\n",
       "      <td>0</td>\n",
       "      <td>1</td>\n",
       "      <td>0</td>\n",
       "      <td>0</td>\n",
       "      <td>...</td>\n",
       "      <td>0</td>\n",
       "      <td>0</td>\n",
       "      <td>1</td>\n",
       "      <td>0</td>\n",
       "      <td>0</td>\n",
       "      <td>0</td>\n",
       "      <td>786.68</td>\n",
       "      <td>1956.51</td>\n",
       "      <td>2743.19</td>\n",
       "      <td>0</td>\n",
       "    </tr>\n",
       "    <tr>\n",
       "      <th>4</th>\n",
       "      <td>39</td>\n",
       "      <td>10</td>\n",
       "      <td>676.35</td>\n",
       "      <td>56123</td>\n",
       "      <td>10.600000</td>\n",
       "      <td>6</td>\n",
       "      <td>0</td>\n",
       "      <td>0</td>\n",
       "      <td>0</td>\n",
       "      <td>0</td>\n",
       "      <td>...</td>\n",
       "      <td>2</td>\n",
       "      <td>2</td>\n",
       "      <td>0</td>\n",
       "      <td>0</td>\n",
       "      <td>1</td>\n",
       "      <td>0</td>\n",
       "      <td>301.36</td>\n",
       "      <td>386.42</td>\n",
       "      <td>687.78</td>\n",
       "      <td>0</td>\n",
       "    </tr>\n",
       "  </tbody>\n",
       "</table>\n",
       "<p>5 rows × 31 columns</p>\n",
       "</div>"
      ],
      "text/plain": [
       "   TENURE  VISITS  LIFETIME_SPENT  DRIVE_LIFE  SERVICE_TIME  VEHICLE_AGE  \\\n",
       "0      43      18         6940.05      108885      9.470588            5   \n",
       "1       0       1            0.00        2190     13.000000            1   \n",
       "2       4       2          188.69       10985     15.000000            2   \n",
       "3      76      22         2824.07      122068     17.909091            9   \n",
       "4      39      10          676.35       56123     10.600000            6   \n",
       "\n",
       "   MODEL1  MODEL2  MODEL3  MODEL4  ...  Dissatisfied  Satisfied  North  South  \\\n",
       "0       0       0       0       0  ...             0          0      0      1   \n",
       "1       0       0       0       0  ...             0          0      1      0   \n",
       "2       0       0       0       0  ...             0          0      0      0   \n",
       "3       0       1       0       0  ...             0          0      1      0   \n",
       "4       0       0       0       0  ...             2          2      0      0   \n",
       "\n",
       "   East  West  LBR_COST  All_PRTS  Total_Spent  Churn  \n",
       "0     0     0    356.18    615.19       971.37      0  \n",
       "1     0     0      0.00      0.00         0.00      1  \n",
       "2     0     1     21.54     36.94        58.48      0  \n",
       "3     0     0    786.68   1956.51      2743.19      0  \n",
       "4     1     0    301.36    386.42       687.78      0  \n",
       "\n",
       "[5 rows x 31 columns]"
      ]
     },
     "execution_count": 30,
     "metadata": {},
     "output_type": "execute_result"
    }
   ],
   "source": [
    "modeling_data_2.head()"
   ]
  },
  {
   "cell_type": "code",
   "execution_count": 31,
   "metadata": {},
   "outputs": [],
   "source": [
    "#modeling_data\n",
    "\n",
    "# Machine Learning \n",
    "predictor2 = modeling_data_2.drop(['Churn'], 1)\n",
    "target2 = modeling_data_2['Churn']"
   ]
  },
  {
   "cell_type": "code",
   "execution_count": 32,
   "metadata": {},
   "outputs": [
    {
     "data": {
      "text/plain": [
       "<AxesSubplot:ylabel='feature'>"
      ]
     },
     "execution_count": 32,
     "metadata": {},
     "output_type": "execute_result"
    },
    {
     "data": {
      "image/png": "[encoded data removed]",
      "text/plain": [
       "<Figure size 720x720 with 1 Axes>"
      ]
     },
     "metadata": {
      "needs_background": "light"
     },
     "output_type": "display_data"
    }
   ],
   "source": [
    "from sklearn.ensemble import RandomForestClassifier\n",
    "\n",
    "clf = RandomForestClassifier(n_estimators=50, max_features='sqrt')\n",
    "clf = clf.fit(predictor2, target2)\n",
    "\n",
    "#have a look at the importance of each feature.\n",
    "features = pd.DataFrame()\n",
    "features['feature'] = predictor2.columns\n",
    "features['importance'] = clf.feature_importances_\n",
    "features.sort_values(by=['importance'], ascending=True, inplace=True)\n",
    "features.set_index('feature', inplace=True)\n",
    "\n",
    "features.plot(kind='barh', figsize=(10, 10))"
   ]
  },
  {
   "cell_type": "markdown",
   "metadata": {},
   "source": [
    "<h1 style=\"color:DodgerBlue;\">Create Base Model</h1>"
   ]
  },
  {
   "cell_type": "code",
   "execution_count": 33,
   "metadata": {
    "scrolled": false
   },
   "outputs": [
    {
     "name": "stdout",
     "output_type": "stream",
     "text": [
      "GB Accuracy: 0.9270666666666667\n",
      "Logistic Regression Accuracy: 0.7427\n",
      "Naive Bayes Accuracy: 0.7628\n"
     ]
    }
   ],
   "source": [
    "\n",
    "# No Normalization\n",
    "\n",
    "# Split data to 80% training data and 20% of test to check the accuracy of our model\n",
    "X_train, X_test, y_train, y_test = train_test_split(predictor2, target2, test_size=0.25, random_state=0)\n",
    "\n",
    "\n",
    "#Import Gradient Boosting Classifier model\n",
    "from sklearn.ensemble import GradientBoostingClassifier\n",
    "\n",
    "#Create Gradient Boosting Classifier\n",
    "gb = GradientBoostingClassifier()\n",
    "\n",
    "#Train the model using the training sets\n",
    "gb.fit(X_train, y_train)\n",
    "\n",
    "#Predict the response for test dataset\n",
    "y_pred = gb.predict(X_test)\n",
    "\n",
    "#Import scikit-learn metrics module for accuracy calculation\n",
    "from sklearn import metrics\n",
    "# Model Accuracy, how often is the classifier correct?\n",
    "print(\"GB Accuracy:\",metrics.accuracy_score(y_test, y_pred))\n",
    "\n",
    "\n",
    "## Lets call logistic regression\n",
    "#Model\n",
    "from sklearn.model_selection import train_test_split\n",
    "from sklearn.model_selection import cross_val_score\n",
    "from sklearn.linear_model import LogisticRegression\n",
    "\n",
    "logreg = LogisticRegression()\n",
    "logreg.fit(X_train,y_train)\n",
    "y_pred = logreg.predict(X_test)\n",
    "\n",
    "print (\"Logistic Regression Accuracy: {}\".format(round(accuracy_score(y_test,y_pred),4)))\n",
    "\n",
    "\n",
    "from sklearn.naive_bayes import GaussianNB\n",
    "gnb = GaussianNB()\n",
    "gnb.fit(X_train, y_train)\n",
    "naivebayespred = gnb.predict(X_test)\n",
    "print (\"Naive Bayes Accuracy: {}\".format(round(accuracy_score(y_test,naivebayespred),8)))\n"
   ]
  },
  {
   "cell_type": "markdown",
   "metadata": {},
   "source": [
    "<h1 style=\"color:DodgerBlue;\">Create Advance Models</h1>"
   ]
  },
  {
   "cell_type": "code",
   "execution_count": 44,
   "metadata": {},
   "outputs": [
    {
     "name": "stdout",
     "output_type": "stream",
     "text": [
      "[20:10:43] WARNING: C:/Users/Administrator/workspace/xgboost-win64_release_1.4.0/src/learner.cc:1095: Starting in XGBoost 1.3.0, the default evaluation metric used with the objective 'binary:logistic' was changed from 'error' to 'logloss'. Explicitly set eval_metric if you'd like to restore the old behavior.\n",
      "[20:10:44] WARNING: C:/Users/Administrator/workspace/xgboost-win64_release_1.4.0/src/learner.cc:1095: Starting in XGBoost 1.3.0, the default evaluation metric used with the objective 'binary:logistic' was changed from 'error' to 'logloss'. Explicitly set eval_metric if you'd like to restore the old behavior.\n",
      "    Algo      f1  execution_time\n",
      "0    SVC  0.0019           59.47\n",
      "1     LR  0.1621            0.44\n",
      "2    KNN  0.2320            2.47\n",
      "3     NB  0.4297            0.10\n",
      "4  Dtree  0.8171            0.42\n",
      "5     RF  0.8647            6.35\n",
      "6    XGB  0.8711            2.79\n"
     ]
    }
   ],
   "source": [
    "\n",
    "#create an array of models\n",
    "models = []\n",
    "models.append((\"LR\",LogisticRegression()))\n",
    "models.append((\"NB\",GaussianNB()))\n",
    "models.append((\"RF\",RandomForestClassifier()))\n",
    "models.append((\"SVC\",SVC()))\n",
    "models.append((\"Dtree\",DecisionTreeClassifier()))\n",
    "models.append((\"XGB\",xgb.XGBClassifier()))\n",
    "models.append((\"KNN\",KNeighborsClassifier()))\n",
    "\n",
    "result = []\n",
    "#measure the accuracy \n",
    "for name,model in models:\n",
    "    start_time = time.time()\n",
    "    kfold = KFold(n_splits=2, random_state=22)\n",
    "    cv_result = cross_val_score(model,X_train,y_train, cv = kfold,scoring = \"f1\")\n",
    "    #print(name, cv_result)\n",
    "    #print(\"-\"*5,name, \" Mean accuracy of cross-validation: \", format(round(cv_result.mean(),4)))\n",
    "    execution_time = (time.time() - start_time)\n",
    "    result.append((name,round(cv_result.mean(),4), round(execution_time,2) ))\n",
    "    #print(name,\"--- %s seconds ---\" % (time.time() - start_time))\n",
    "\n",
    "pd.DataFrame(result)\n",
    "    \n",
    "df = pd.DataFrame(result, columns =['Algo', 'f1', 'execution_time']) \n",
    "df \n",
    "\n",
    "# sort df by Count column\n",
    "pd_df = df.sort_values(['f1']).reset_index(drop=True)\n",
    "print (pd_df)\n",
    "\n"
   ]
  },
  {
   "cell_type": "code",
   "execution_count": 43,
   "metadata": {
    "scrolled": false
   },
   "outputs": [
    {
     "name": "stdout",
     "output_type": "stream",
     "text": [
      "[11:18:07] WARNING: C:/Users/Administrator/workspace/xgboost-win64_release_1.4.0/src/learner.cc:1095: Starting in XGBoost 1.3.0, the default evaluation metric used with the objective 'binary:logistic' was changed from 'error' to 'logloss'. Explicitly set eval_metric if you'd like to restore the old behavior.\n",
      "[11:18:08] WARNING: C:/Users/Administrator/workspace/xgboost-win64_release_1.4.0/src/learner.cc:1095: Starting in XGBoost 1.3.0, the default evaluation metric used with the objective 'binary:logistic' was changed from 'error' to 'logloss'. Explicitly set eval_metric if you'd like to restore the old behavior.\n",
      "    Algo  Accuracy  execution_time\n",
      "0    KNN    0.6980            1.92\n",
      "1     LR    0.7369            0.28\n",
      "2    SVC    0.7376           48.70\n",
      "3     NB    0.7542            0.07\n",
      "4  Dtree    0.9038            0.32\n",
      "5     RF    0.9248            4.67\n",
      "6    XGB    0.9312            2.09\n"
     ]
    },
    {
     "data": {
      "image/png": "[encoded data removed]",
      "text/plain": [
       "<Figure size 360x360 with 1 Axes>"
      ]
     },
     "metadata": {
      "needs_background": "light"
     },
     "output_type": "display_data"
    },
    {
     "data": {
      "image/png": "[encoded data removed]",
      "text/plain": [
       "<Figure size 360x360 with 1 Axes>"
      ]
     },
     "metadata": {
      "needs_background": "light"
     },
     "output_type": "display_data"
    },
    {
     "name": "stdout",
     "output_type": "stream",
     "text": [
      "[11:19:05] WARNING: C:/Users/Administrator/workspace/xgboost-win64_release_1.4.0/src/learner.cc:1095: Starting in XGBoost 1.3.0, the default evaluation metric used with the objective 'binary:logistic' was changed from 'error' to 'logloss'. Explicitly set eval_metric if you'd like to restore the old behavior.\n",
      "[11:19:06] WARNING: C:/Users/Administrator/workspace/xgboost-win64_release_1.4.0/src/learner.cc:1095: Starting in XGBoost 1.3.0, the default evaluation metric used with the objective 'binary:logistic' was changed from 'error' to 'logloss'. Explicitly set eval_metric if you'd like to restore the old behavior.\n",
      "    Algo      f1  execution_time\n",
      "0    SVC  0.0002           48.20\n",
      "1     LR  0.1660            0.29\n",
      "2    KNN  0.2315            1.99\n",
      "3     NB  0.4336            0.07\n",
      "4  Dtree  0.8145            0.32\n",
      "5     RF  0.8648            4.63\n",
      "6    XGB  0.8731            2.14\n",
      "[11:20:03] WARNING: C:/Users/Administrator/workspace/xgboost-win64_release_1.4.0/src/learner.cc:1095: Starting in XGBoost 1.3.0, the default evaluation metric used with the objective 'binary:logistic' was changed from 'error' to 'logloss'. Explicitly set eval_metric if you'd like to restore the old behavior.\n",
      "[11:20:04] WARNING: C:/Users/Administrator/workspace/xgboost-win64_release_1.4.0/src/learner.cc:1095: Starting in XGBoost 1.3.0, the default evaluation metric used with the objective 'binary:logistic' was changed from 'error' to 'logloss'. Explicitly set eval_metric if you'd like to restore the old behavior.\n",
      "    Algo  roc_auc  execution_time\n",
      "0    SVC   0.5283           48.20\n",
      "1    KNN   0.5580            0.97\n",
      "2     LR   0.5686            0.30\n",
      "3     NB   0.8316            0.07\n",
      "4  Dtree   0.8752            0.34\n",
      "5     RF   0.9729            4.62\n",
      "6    XGB   0.9789            2.20\n"
     ]
    },
    {
     "data": {
      "application/vnd.plotly.v1+json": {
       "config": {
        "plotlyServerURL": "https://plot.ly"
       },
       "data": [
        {
         "hovertemplate": "metric=Accuracy<br>Algo=%{x}<br>Performance=%{y}<extra></extra>",
         "legendgroup": "Accuracy",
         "line": {
          "color": "#636efa",
          "dash": "solid"
         },
         "mode": "lines",
         "name": "Accuracy",
         "orientation": "v",
         "showlegend": true,
         "type": "scatter",
         "x": [
          "Dtree",
          "KNN",
          "LR",
          "NB",
          "RF",
          "SVC",
          "XGB"
         ],
         "xaxis": "x",
         "y": [
          0.9038,
          0.698,
          0.7369,
          0.7542,
          0.9248,
          0.7376,
          0.9312
         ],
         "yaxis": "y"
        },
        {
         "hovertemplate": "metric=F1<br>Algo=%{x}<br>Performance=%{y}<extra></extra>",
         "legendgroup": "F1",
         "line": {
          "color": "#EF553B",
          "dash": "solid"
         },
         "mode": "lines",
         "name": "F1",
         "orientation": "v",
         "showlegend": true,
         "type": "scatter",
         "x": [
          "Dtree",
          "KNN",
          "LR",
          "NB",
          "RF",
          "SVC",
          "XGB"
         ],
         "xaxis": "x",
         "y": [
          0.8145,
          0.2315,
          0.166,
          0.4336,
          0.8648,
          0.0002,
          0.8731
         ],
         "yaxis": "y"
        },
        {
         "hovertemplate": "metric=ROC<br>Algo=%{x}<br>Performance=%{y}<extra></extra>",
         "legendgroup": "ROC",
         "line": {
          "color": "#00cc96",
          "dash": "solid"
         },
         "mode": "lines",
         "name": "ROC",
         "orientation": "v",
         "showlegend": true,
         "type": "scatter",
         "x": [
          "Dtree",
          "KNN",
          "LR",
          "NB",
          "RF",
          "SVC",
          "XGB"
         ],
         "xaxis": "x",
         "y": [
          0.8752,
          0.558,
          0.5686,
          0.8316,
          0.9729,
          0.5283,
          0.9789
         ],
         "yaxis": "y"
        }
       ],
       "layout": {
        "legend": {
         "title": {
          "text": "metric"
         },
         "tracegroupgap": 0
        },
        "margin": {
         "t": 60
        },
        "template": {
         "data": {
          "bar": [
           {
            "error_x": {
             "color": "#2a3f5f"
            },
            "error_y": {
             "color": "#2a3f5f"
            },
            "marker": {
             "line": {
              "color": "#E5ECF6",
              "width": 0.5
             }
            },
            "type": "bar"
           }
          ],
          "barpolar": [
           {
            "marker": {
             "line": {
              "color": "#E5ECF6",
              "width": 0.5
             }
            },
            "type": "barpolar"
           }
          ],
          "carpet": [
           {
            "aaxis": {
             "endlinecolor": "#2a3f5f",
             "gridcolor": "white",
             "linecolor": "white",
             "minorgridcolor": "white",
             "startlinecolor": "#2a3f5f"
            },
            "baxis": {
             "endlinecolor": "#2a3f5f",
             "gridcolor": "white",
             "linecolor": "white",
             "minorgridcolor": "white",
             "startlinecolor": "#2a3f5f"
            },
            "type": "carpet"
           }
          ],
          "choropleth": [
           {
            "colorbar": {
             "outlinewidth": 0,
             "ticks": ""
            },
            "type": "choropleth"
           }
          ],
          "contour": [
           {
            "colorbar": {
             "outlinewidth": 0,
             "ticks": ""
            },
            "colorscale": [
             [
              0,
              "#0d0887"
             ],
             [
              0.1111111111111111,
              "#46039f"
             ],
             [
              0.2222222222222222,
              "#7201a8"
             ],
             [
              0.3333333333333333,
              "#9c179e"
             ],
             [
              0.4444444444444444,
              "#bd3786"
             ],
             [
              0.5555555555555556,
              "#d8576b"
             ],
             [
              0.6666666666666666,
              "#ed7953"
             ],
             [
              0.7777777777777778,
              "#fb9f3a"
             ],
             [
              0.8888888888888888,
              "#fdca26"
             ],
             [
              1,
              "#f0f921"
             ]
            ],
            "type": "contour"
           }
          ],
          "contourcarpet": [
           {
            "colorbar": {
             "outlinewidth": 0,
             "ticks": ""
            },
            "type": "contourcarpet"
           }
          ],
          "heatmap": [
           {
            "colorbar": {
             "outlinewidth": 0,
             "ticks": ""
            },
            "colorscale": [
             [
              0,
              "#0d0887"
             ],
             [
              0.1111111111111111,
              "#46039f"
             ],
             [
              0.2222222222222222,
              "#7201a8"
             ],
             [
              0.3333333333333333,
              "#9c179e"
             ],
             [
              0.4444444444444444,
              "#bd3786"
             ],
             [
              0.5555555555555556,
              "#d8576b"
             ],
             [
              0.6666666666666666,
              "#ed7953"
             ],
             [
              0.7777777777777778,
              "#fb9f3a"
             ],
             [
              0.8888888888888888,
              "#fdca26"
             ],
             [
              1,
              "#f0f921"
             ]
            ],
            "type": "heatmap"
           }
          ],
          "heatmapgl": [
           {
            "colorbar": {
             "outlinewidth": 0,
             "ticks": ""
            },
            "colorscale": [
             [
              0,
              "#0d0887"
             ],
             [
              0.1111111111111111,
              "#46039f"
             ],
             [
              0.2222222222222222,
              "#7201a8"
             ],
             [
              0.3333333333333333,
              "#9c179e"
             ],
             [
              0.4444444444444444,
              "#bd3786"
             ],
             [
              0.5555555555555556,
              "#d8576b"
             ],
             [
              0.6666666666666666,
              "#ed7953"
             ],
             [
              0.7777777777777778,
              "#fb9f3a"
             ],
             [
              0.8888888888888888,
              "#fdca26"
             ],
             [
              1,
              "#f0f921"
             ]
            ],
            "type": "heatmapgl"
           }
          ],
          "histogram": [
           {
            "marker": {
             "colorbar": {
              "outlinewidth": 0,
              "ticks": ""
             }
            },
            "type": "histogram"
           }
          ],
          "histogram2d": [
           {
            "colorbar": {
             "outlinewidth": 0,
             "ticks": ""
            },
            "colorscale": [
             [
              0,
              "#0d0887"
             ],
             [
              0.1111111111111111,
              "#46039f"
             ],
             [
              0.2222222222222222,
              "#7201a8"
             ],
             [
              0.3333333333333333,
              "#9c179e"
             ],
             [
              0.4444444444444444,
              "#bd3786"
             ],
             [
              0.5555555555555556,
              "#d8576b"
             ],
             [
              0.6666666666666666,
              "#ed7953"
             ],
             [
              0.7777777777777778,
              "#fb9f3a"
             ],
             [
              0.8888888888888888,
              "#fdca26"
             ],
             [
              1,
              "#f0f921"
             ]
            ],
            "type": "histogram2d"
           }
          ],
          "histogram2dcontour": [
           {
            "colorbar": {
             "outlinewidth": 0,
             "ticks": ""
            },
            "colorscale": [
             [
              0,
              "#0d0887"
             ],
             [
              0.1111111111111111,
              "#46039f"
             ],
             [
              0.2222222222222222,
              "#7201a8"
             ],
             [
              0.3333333333333333,
              "#9c179e"
             ],
             [
              0.4444444444444444,
              "#bd3786"
             ],
             [
              0.5555555555555556,
              "#d8576b"
             ],
             [
              0.6666666666666666,
              "#ed7953"
             ],
             [
              0.7777777777777778,
              "#fb9f3a"
             ],
             [
              0.8888888888888888,
              "#fdca26"
             ],
             [
              1,
              "#f0f921"
             ]
            ],
            "type": "histogram2dcontour"
           }
          ],
          "mesh3d": [
           {
            "colorbar": {
             "outlinewidth": 0,
             "ticks": ""
            },
            "type": "mesh3d"
           }
          ],
          "parcoords": [
           {
            "line": {
             "colorbar": {
              "outlinewidth": 0,
              "ticks": ""
             }
            },
            "type": "parcoords"
           }
          ],
          "pie": [
           {
            "automargin": true,
            "type": "pie"
           }
          ],
          "scatter": [
           {
            "marker": {
             "colorbar": {
              "outlinewidth": 0,
              "ticks": ""
             }
            },
            "type": "scatter"
           }
          ],
          "scatter3d": [
           {
            "line": {
             "colorbar": {
              "outlinewidth": 0,
              "ticks": ""
             }
            },
            "marker": {
             "colorbar": {
              "outlinewidth": 0,
              "ticks": ""
             }
            },
            "type": "scatter3d"
           }
          ],
          "scattercarpet": [
           {
            "marker": {
             "colorbar": {
              "outlinewidth": 0,
              "ticks": ""
             }
            },
            "type": "scattercarpet"
           }
          ],
          "scattergeo": [
           {
            "marker": {
             "colorbar": {
              "outlinewidth": 0,
              "ticks": ""
             }
            },
            "type": "scattergeo"
           }
          ],
          "scattergl": [
           {
            "marker": {
             "colorbar": {
              "outlinewidth": 0,
              "ticks": ""
             }
            },
            "type": "scattergl"
           }
          ],
          "scattermapbox": [
           {
            "marker": {
             "colorbar": {
              "outlinewidth": 0,
              "ticks": ""
             }
            },
            "type": "scattermapbox"
           }
          ],
          "scatterpolar": [
           {
            "marker": {
             "colorbar": {
              "outlinewidth": 0,
              "ticks": ""
             }
            },
            "type": "scatterpolar"
           }
          ],
          "scatterpolargl": [
           {
            "marker": {
             "colorbar": {
              "outlinewidth": 0,
              "ticks": ""
             }
            },
            "type": "scatterpolargl"
           }
          ],
          "scatterternary": [
           {
            "marker": {
             "colorbar": {
              "outlinewidth": 0,
              "ticks": ""
             }
            },
            "type": "scatterternary"
           }
          ],
          "surface": [
           {
            "colorbar": {
             "outlinewidth": 0,
             "ticks": ""
            },
            "colorscale": [
             [
              0,
              "#0d0887"
             ],
             [
              0.1111111111111111,
              "#46039f"
             ],
             [
              0.2222222222222222,
              "#7201a8"
             ],
             [
              0.3333333333333333,
              "#9c179e"
             ],
             [
              0.4444444444444444,
              "#bd3786"
             ],
             [
              0.5555555555555556,
              "#d8576b"
             ],
             [
              0.6666666666666666,
              "#ed7953"
             ],
             [
              0.7777777777777778,
              "#fb9f3a"
             ],
             [
              0.8888888888888888,
              "#fdca26"
             ],
             [
              1,
              "#f0f921"
             ]
            ],
            "type": "surface"
           }
          ],
          "table": [
           {
            "cells": {
             "fill": {
              "color": "#EBF0F8"
             },
             "line": {
              "color": "white"
             }
            },
            "header": {
             "fill": {
              "color": "#C8D4E3"
             },
             "line": {
              "color": "white"
             }
            },
            "type": "table"
           }
          ]
         },
         "layout": {
          "annotationdefaults": {
           "arrowcolor": "#2a3f5f",
           "arrowhead": 0,
           "arrowwidth": 1
          },
          "autotypenumbers": "strict",
          "coloraxis": {
           "colorbar": {
            "outlinewidth": 0,
            "ticks": ""
           }
          },
          "colorscale": {
           "diverging": [
            [
             0,
             "#8e0152"
            ],
            [
             0.1,
             "#c51b7d"
            ],
            [
             0.2,
             "#de77ae"
            ],
            [
             0.3,
             "#f1b6da"
            ],
            [
             0.4,
             "#fde0ef"
            ],
            [
             0.5,
             "#f7f7f7"
            ],
            [
             0.6,
             "#e6f5d0"
            ],
            [
             0.7,
             "#b8e186"
            ],
            [
             0.8,
             "#7fbc41"
            ],
            [
             0.9,
             "#4d9221"
            ],
            [
             1,
             "#276419"
            ]
           ],
           "sequential": [
            [
             0,
             "#0d0887"
            ],
            [
             0.1111111111111111,
             "#46039f"
            ],
            [
             0.2222222222222222,
             "#7201a8"
            ],
            [
             0.3333333333333333,
             "#9c179e"
            ],
            [
             0.4444444444444444,
             "#bd3786"
            ],
            [
             0.5555555555555556,
             "#d8576b"
            ],
            [
             0.6666666666666666,
             "#ed7953"
            ],
            [
             0.7777777777777778,
             "#fb9f3a"
            ],
            [
             0.8888888888888888,
             "#fdca26"
            ],
            [
             1,
             "#f0f921"
            ]
           ],
           "sequentialminus": [
            [
             0,
             "#0d0887"
            ],
            [
             0.1111111111111111,
             "#46039f"
            ],
            [
             0.2222222222222222,
             "#7201a8"
            ],
            [
             0.3333333333333333,
             "#9c179e"
            ],
            [
             0.4444444444444444,
             "#bd3786"
            ],
            [
             0.5555555555555556,
             "#d8576b"
            ],
            [
             0.6666666666666666,
             "#ed7953"
            ],
            [
             0.7777777777777778,
             "#fb9f3a"
            ],
            [
             0.8888888888888888,
             "#fdca26"
            ],
            [
             1,
             "#f0f921"
            ]
           ]
          },
          "colorway": [
           "#636efa",
           "#EF553B",
           "#00cc96",
           "#ab63fa",
           "#FFA15A",
           "#19d3f3",
           "#FF6692",
           "#B6E880",
           "#FF97FF",
           "#FECB52"
          ],
          "font": {
           "color": "#2a3f5f"
          },
          "geo": {
           "bgcolor": "white",
           "lakecolor": "white",
           "landcolor": "#E5ECF6",
           "showlakes": true,
           "showland": true,
           "subunitcolor": "white"
          },
          "hoverlabel": {
           "align": "left"
          },
          "hovermode": "closest",
          "mapbox": {
           "style": "light"
          },
          "paper_bgcolor": "white",
          "plot_bgcolor": "#E5ECF6",
          "polar": {
           "angularaxis": {
            "gridcolor": "white",
            "linecolor": "white",
            "ticks": ""
           },
           "bgcolor": "#E5ECF6",
           "radialaxis": {
            "gridcolor": "white",
            "linecolor": "white",
            "ticks": ""
           }
          },
          "scene": {
           "xaxis": {
            "backgroundcolor": "#E5ECF6",
            "gridcolor": "white",
            "gridwidth": 2,
            "linecolor": "white",
            "showbackground": true,
            "ticks": "",
            "zerolinecolor": "white"
           },
           "yaxis": {
            "backgroundcolor": "#E5ECF6",
            "gridcolor": "white",
            "gridwidth": 2,
            "linecolor": "white",
            "showbackground": true,
            "ticks": "",
            "zerolinecolor": "white"
           },
           "zaxis": {
            "backgroundcolor": "#E5ECF6",
            "gridcolor": "white",
            "gridwidth": 2,
            "linecolor": "white",
            "showbackground": true,
            "ticks": "",
            "zerolinecolor": "white"
           }
          },
          "shapedefaults": {
           "line": {
            "color": "#2a3f5f"
           }
          },
          "ternary": {
           "aaxis": {
            "gridcolor": "white",
            "linecolor": "white",
            "ticks": ""
           },
           "baxis": {
            "gridcolor": "white",
            "linecolor": "white",
            "ticks": ""
           },
           "bgcolor": "#E5ECF6",
           "caxis": {
            "gridcolor": "white",
            "linecolor": "white",
            "ticks": ""
           }
          },
          "title": {
           "x": 0.05
          },
          "xaxis": {
           "automargin": true,
           "gridcolor": "white",
           "linecolor": "white",
           "ticks": "",
           "title": {
            "standoff": 15
           },
           "zerolinecolor": "white",
           "zerolinewidth": 2
          },
          "yaxis": {
           "automargin": true,
           "gridcolor": "white",
           "linecolor": "white",
           "ticks": "",
           "title": {
            "standoff": 15
           },
           "zerolinecolor": "white",
           "zerolinewidth": 2
          }
         }
        },
        "xaxis": {
         "anchor": "y",
         "domain": [
          0,
          1
         ],
         "title": {
          "text": "Algo"
         }
        },
        "yaxis": {
         "anchor": "x",
         "domain": [
          0,
          1
         ],
         "title": {
          "text": "Performance"
         }
        }
       }
      },
      "text/html": [
       "<div>                            <div id=\"5111f889-5a90-4d50-a020-f719e11729a0\" class=\"plotly-graph-div\" style=\"height:525px; width:100%;\"></div>            <script type=\"text/javascript\">                require([\"plotly\"], function(Plotly) {                    window.PLOTLYENV=window.PLOTLYENV || {};                                    if (document.getElementById(\"5111f889-5a90-4d50-a020-f719e11729a0\")) {                    Plotly.newPlot(                        \"5111f889-5a90-4d50-a020-f719e11729a0\",                        [{\"hovertemplate\": \"metric=Accuracy<br>Algo=%{x}<br>Performance=%{y}<extra></extra>\", \"legendgroup\": \"Accuracy\", \"line\": {\"color\": \"#636efa\", \"dash\": \"solid\"}, \"mode\": \"lines\", \"name\": \"Accuracy\", \"orientation\": \"v\", \"showlegend\": true, \"type\": \"scatter\", \"x\": [\"Dtree\", \"KNN\", \"LR\", \"NB\", \"RF\", \"SVC\", \"XGB\"], \"xaxis\": \"x\", \"y\": [0.9038, 0.698, 0.7369, 0.7542, 0.9248, 0.7376, 0.9312], \"yaxis\": \"y\"}, {\"hovertemplate\": \"metric=F1<br>Algo=%{x}<br>Performance=%{y}<extra></extra>\", \"legendgroup\": \"F1\", \"line\": {\"color\": \"#EF553B\", \"dash\": \"solid\"}, \"mode\": \"lines\", \"name\": \"F1\", \"orientation\": \"v\", \"showlegend\": true, \"type\": \"scatter\", \"x\": [\"Dtree\", \"KNN\", \"LR\", \"NB\", \"RF\", \"SVC\", \"XGB\"], \"xaxis\": \"x\", \"y\": [0.8145, 0.2315, 0.166, 0.4336, 0.8648, 0.0002, 0.8731], \"yaxis\": \"y\"}, {\"hovertemplate\": \"metric=ROC<br>Algo=%{x}<br>Performance=%{y}<extra></extra>\", \"legendgroup\": \"ROC\", \"line\": {\"color\": \"#00cc96\", \"dash\": \"solid\"}, \"mode\": \"lines\", \"name\": \"ROC\", \"orientation\": \"v\", \"showlegend\": true, \"type\": \"scatter\", \"x\": [\"Dtree\", \"KNN\", \"LR\", \"NB\", \"RF\", \"SVC\", \"XGB\"], \"xaxis\": \"x\", \"y\": [0.8752, 0.558, 0.5686, 0.8316, 0.9729, 0.5283, 0.9789], \"yaxis\": \"y\"}],                        {\"legend\": {\"title\": {\"text\": \"metric\"}, \"tracegroupgap\": 0}, \"margin\": {\"t\": 60}, \"template\": {\"data\": {\"bar\": [{\"error_x\": {\"color\": \"#2a3f5f\"}, \"error_y\": {\"color\": \"#2a3f5f\"}, \"marker\": {\"line\": {\"color\": \"#E5ECF6\", \"width\": 0.5}}, \"type\": \"bar\"}], \"barpolar\": [{\"marker\": {\"line\": {\"color\": \"#E5ECF6\", \"width\": 0.5}}, \"type\": \"barpolar\"}], \"carpet\": [{\"aaxis\": {\"endlinecolor\": \"#2a3f5f\", \"gridcolor\": \"white\", \"linecolor\": \"white\", \"minorgridcolor\": \"white\", \"startlinecolor\": \"#2a3f5f\"}, \"baxis\": {\"endlinecolor\": \"#2a3f5f\", \"gridcolor\": \"white\", \"linecolor\": \"white\", \"minorgridcolor\": \"white\", \"startlinecolor\": \"#2a3f5f\"}, \"type\": \"carpet\"}], \"choropleth\": [{\"colorbar\": {\"outlinewidth\": 0, \"ticks\": \"\"}, \"type\": \"choropleth\"}], \"contour\": [{\"colorbar\": {\"outlinewidth\": 0, \"ticks\": \"\"}, \"colorscale\": [[0.0, \"#0d0887\"], [0.1111111111111111, \"#46039f\"], [0.2222222222222222, \"#7201a8\"], [0.3333333333333333, \"#9c179e\"], [0.4444444444444444, \"#bd3786\"], [0.5555555555555556, \"#d8576b\"], [0.6666666666666666, \"#ed7953\"], [0.7777777777777778, \"#fb9f3a\"], [0.8888888888888888, \"#fdca26\"], [1.0, \"#f0f921\"]], \"type\": \"contour\"}], \"contourcarpet\": [{\"colorbar\": {\"outlinewidth\": 0, \"ticks\": \"\"}, \"type\": \"contourcarpet\"}], \"heatmap\": [{\"colorbar\": {\"outlinewidth\": 0, \"ticks\": \"\"}, \"colorscale\": [[0.0, \"#0d0887\"], [0.1111111111111111, \"#46039f\"], [0.2222222222222222, \"#7201a8\"], [0.3333333333333333, \"#9c179e\"], [0.4444444444444444, \"#bd3786\"], [0.5555555555555556, \"#d8576b\"], [0.6666666666666666, \"#ed7953\"], [0.7777777777777778, \"#fb9f3a\"], [0.8888888888888888, \"#fdca26\"], [1.0, \"#f0f921\"]], \"type\": \"heatmap\"}], \"heatmapgl\": [{\"colorbar\": {\"outlinewidth\": 0, \"ticks\": \"\"}, \"colorscale\": [[0.0, \"#0d0887\"], [0.1111111111111111, \"#46039f\"], [0.2222222222222222, \"#7201a8\"], [0.3333333333333333, \"#9c179e\"], [0.4444444444444444, \"#bd3786\"], [0.5555555555555556, \"#d8576b\"], [0.6666666666666666, \"#ed7953\"], [0.7777777777777778, \"#fb9f3a\"], [0.8888888888888888, \"#fdca26\"], [1.0, \"#f0f921\"]], \"type\": \"heatmapgl\"}], \"histogram\": [{\"marker\": {\"colorbar\": {\"outlinewidth\": 0, \"ticks\": \"\"}}, \"type\": \"histogram\"}], \"histogram2d\": [{\"colorbar\": {\"outlinewidth\": 0, \"ticks\": \"\"}, \"colorscale\": [[0.0, \"#0d0887\"], [0.1111111111111111, \"#46039f\"], [0.2222222222222222, \"#7201a8\"], [0.3333333333333333, \"#9c179e\"], [0.4444444444444444, \"#bd3786\"], [0.5555555555555556, \"#d8576b\"], [0.6666666666666666, \"#ed7953\"], [0.7777777777777778, \"#fb9f3a\"], [0.8888888888888888, \"#fdca26\"], [1.0, \"#f0f921\"]], \"type\": \"histogram2d\"}], \"histogram2dcontour\": [{\"colorbar\": {\"outlinewidth\": 0, \"ticks\": \"\"}, \"colorscale\": [[0.0, \"#0d0887\"], [0.1111111111111111, \"#46039f\"], [0.2222222222222222, \"#7201a8\"], [0.3333333333333333, \"#9c179e\"], [0.4444444444444444, \"#bd3786\"], [0.5555555555555556, \"#d8576b\"], [0.6666666666666666, \"#ed7953\"], [0.7777777777777778, \"#fb9f3a\"], [0.8888888888888888, \"#fdca26\"], [1.0, \"#f0f921\"]], \"type\": \"histogram2dcontour\"}], \"mesh3d\": [{\"colorbar\": {\"outlinewidth\": 0, \"ticks\": \"\"}, \"type\": \"mesh3d\"}], \"parcoords\": [{\"line\": {\"colorbar\": {\"outlinewidth\": 0, \"ticks\": \"\"}}, \"type\": \"parcoords\"}], \"pie\": [{\"automargin\": true, \"type\": \"pie\"}], \"scatter\": [{\"marker\": {\"colorbar\": {\"outlinewidth\": 0, \"ticks\": \"\"}}, \"type\": \"scatter\"}], \"scatter3d\": [{\"line\": {\"colorbar\": {\"outlinewidth\": 0, \"ticks\": \"\"}}, \"marker\": {\"colorbar\": {\"outlinewidth\": 0, \"ticks\": \"\"}}, \"type\": \"scatter3d\"}], \"scattercarpet\": [{\"marker\": {\"colorbar\": {\"outlinewidth\": 0, \"ticks\": \"\"}}, \"type\": \"scattercarpet\"}], \"scattergeo\": [{\"marker\": {\"colorbar\": {\"outlinewidth\": 0, \"ticks\": \"\"}}, \"type\": \"scattergeo\"}], \"scattergl\": [{\"marker\": {\"colorbar\": {\"outlinewidth\": 0, \"ticks\": \"\"}}, \"type\": \"scattergl\"}], \"scattermapbox\": [{\"marker\": {\"colorbar\": {\"outlinewidth\": 0, \"ticks\": \"\"}}, \"type\": \"scattermapbox\"}], \"scatterpolar\": [{\"marker\": {\"colorbar\": {\"outlinewidth\": 0, \"ticks\": \"\"}}, \"type\": \"scatterpolar\"}], \"scatterpolargl\": [{\"marker\": {\"colorbar\": {\"outlinewidth\": 0, \"ticks\": \"\"}}, \"type\": \"scatterpolargl\"}], \"scatterternary\": [{\"marker\": {\"colorbar\": {\"outlinewidth\": 0, \"ticks\": \"\"}}, \"type\": \"scatterternary\"}], \"surface\": [{\"colorbar\": {\"outlinewidth\": 0, \"ticks\": \"\"}, \"colorscale\": [[0.0, \"#0d0887\"], [0.1111111111111111, \"#46039f\"], [0.2222222222222222, \"#7201a8\"], [0.3333333333333333, \"#9c179e\"], [0.4444444444444444, \"#bd3786\"], [0.5555555555555556, \"#d8576b\"], [0.6666666666666666, \"#ed7953\"], [0.7777777777777778, \"#fb9f3a\"], [0.8888888888888888, \"#fdca26\"], [1.0, \"#f0f921\"]], \"type\": \"surface\"}], \"table\": [{\"cells\": {\"fill\": {\"color\": \"#EBF0F8\"}, \"line\": {\"color\": \"white\"}}, \"header\": {\"fill\": {\"color\": \"#C8D4E3\"}, \"line\": {\"color\": \"white\"}}, \"type\": \"table\"}]}, \"layout\": {\"annotationdefaults\": {\"arrowcolor\": \"#2a3f5f\", \"arrowhead\": 0, \"arrowwidth\": 1}, \"autotypenumbers\": \"strict\", \"coloraxis\": {\"colorbar\": {\"outlinewidth\": 0, \"ticks\": \"\"}}, \"colorscale\": {\"diverging\": [[0, \"#8e0152\"], [0.1, \"#c51b7d\"], [0.2, \"#de77ae\"], [0.3, \"#f1b6da\"], [0.4, \"#fde0ef\"], [0.5, \"#f7f7f7\"], [0.6, \"#e6f5d0\"], [0.7, \"#b8e186\"], [0.8, \"#7fbc41\"], [0.9, \"#4d9221\"], [1, \"#276419\"]], \"sequential\": [[0.0, \"#0d0887\"], [0.1111111111111111, \"#46039f\"], [0.2222222222222222, \"#7201a8\"], [0.3333333333333333, \"#9c179e\"], [0.4444444444444444, \"#bd3786\"], [0.5555555555555556, \"#d8576b\"], [0.6666666666666666, \"#ed7953\"], [0.7777777777777778, \"#fb9f3a\"], [0.8888888888888888, \"#fdca26\"], [1.0, \"#f0f921\"]], \"sequentialminus\": [[0.0, \"#0d0887\"], [0.1111111111111111, \"#46039f\"], [0.2222222222222222, \"#7201a8\"], [0.3333333333333333, \"#9c179e\"], [0.4444444444444444, \"#bd3786\"], [0.5555555555555556, \"#d8576b\"], [0.6666666666666666, \"#ed7953\"], [0.7777777777777778, \"#fb9f3a\"], [0.8888888888888888, \"#fdca26\"], [1.0, \"#f0f921\"]]}, \"colorway\": [\"#636efa\", \"#EF553B\", \"#00cc96\", \"#ab63fa\", \"#FFA15A\", \"#19d3f3\", \"#FF6692\", \"#B6E880\", \"#FF97FF\", \"#FECB52\"], \"font\": {\"color\": \"#2a3f5f\"}, \"geo\": {\"bgcolor\": \"white\", \"lakecolor\": \"white\", \"landcolor\": \"#E5ECF6\", \"showlakes\": true, \"showland\": true, \"subunitcolor\": \"white\"}, \"hoverlabel\": {\"align\": \"left\"}, \"hovermode\": \"closest\", \"mapbox\": {\"style\": \"light\"}, \"paper_bgcolor\": \"white\", \"plot_bgcolor\": \"#E5ECF6\", \"polar\": {\"angularaxis\": {\"gridcolor\": \"white\", \"linecolor\": \"white\", \"ticks\": \"\"}, \"bgcolor\": \"#E5ECF6\", \"radialaxis\": {\"gridcolor\": \"white\", \"linecolor\": \"white\", \"ticks\": \"\"}}, \"scene\": {\"xaxis\": {\"backgroundcolor\": \"#E5ECF6\", \"gridcolor\": \"white\", \"gridwidth\": 2, \"linecolor\": \"white\", \"showbackground\": true, \"ticks\": \"\", \"zerolinecolor\": \"white\"}, \"yaxis\": {\"backgroundcolor\": \"#E5ECF6\", \"gridcolor\": \"white\", \"gridwidth\": 2, \"linecolor\": \"white\", \"showbackground\": true, \"ticks\": \"\", \"zerolinecolor\": \"white\"}, \"zaxis\": {\"backgroundcolor\": \"#E5ECF6\", \"gridcolor\": \"white\", \"gridwidth\": 2, \"linecolor\": \"white\", \"showbackground\": true, \"ticks\": \"\", \"zerolinecolor\": \"white\"}}, \"shapedefaults\": {\"line\": {\"color\": \"#2a3f5f\"}}, \"ternary\": {\"aaxis\": {\"gridcolor\": \"white\", \"linecolor\": \"white\", \"ticks\": \"\"}, \"baxis\": {\"gridcolor\": \"white\", \"linecolor\": \"white\", \"ticks\": \"\"}, \"bgcolor\": \"#E5ECF6\", \"caxis\": {\"gridcolor\": \"white\", \"linecolor\": \"white\", \"ticks\": \"\"}}, \"title\": {\"x\": 0.05}, \"xaxis\": {\"automargin\": true, \"gridcolor\": \"white\", \"linecolor\": \"white\", \"ticks\": \"\", \"title\": {\"standoff\": 15}, \"zerolinecolor\": \"white\", \"zerolinewidth\": 2}, \"yaxis\": {\"automargin\": true, \"gridcolor\": \"white\", \"linecolor\": \"white\", \"ticks\": \"\", \"title\": {\"standoff\": 15}, \"zerolinecolor\": \"white\", \"zerolinewidth\": 2}}}, \"xaxis\": {\"anchor\": \"y\", \"domain\": [0.0, 1.0], \"title\": {\"text\": \"Algo\"}}, \"yaxis\": {\"anchor\": \"x\", \"domain\": [0.0, 1.0], \"title\": {\"text\": \"Performance\"}}},                        {\"responsive\": true}                    ).then(function(){\n",
       "                            \n",
       "var gd = document.getElementById('5111f889-5a90-4d50-a020-f719e11729a0');\n",
       "var x = new MutationObserver(function (mutations, observer) {{\n",
       "        var display = window.getComputedStyle(gd).display;\n",
       "        if (!display || display === 'none') {{\n",
       "            console.log([gd, 'removed!']);\n",
       "            Plotly.purge(gd);\n",
       "            observer.disconnect();\n",
       "        }}\n",
       "}});\n",
       "\n",
       "// Listen for the removal of the full notebook cells\n",
       "var notebookContainer = gd.closest('#notebook-container');\n",
       "if (notebookContainer) {{\n",
       "    x.observe(notebookContainer, {childList: true});\n",
       "}}\n",
       "\n",
       "// Listen for the clearing of the current output cell\n",
       "var outputEl = gd.closest('.output');\n",
       "if (outputEl) {{\n",
       "    x.observe(outputEl, {childList: true});\n",
       "}}\n",
       "\n",
       "                        })                };                });            </script>        </div>"
      ]
     },
     "metadata": {},
     "output_type": "display_data"
    }
   ],
   "source": [
    "# Split data to 80% training data and 20% of test to check the accuracy of our model\n",
    "X_train, X_test, y_train, y_test = train_test_split(predictor2, target2, test_size=0.20, random_state=0)\n",
    "\n",
    "\n",
    "from sklearn.svm import SVC\n",
    "from sklearn.multioutput import MultiOutputClassifier\n",
    "from sklearn.ensemble import GradientBoostingClassifier\n",
    "from sklearn.tree import DecisionTreeClassifier\n",
    "from sklearn.neighbors import KNeighborsClassifier\n",
    "from sklearn.naive_bayes import GaussianNB\n",
    "from sklearn.ensemble import RandomForestClassifier\n",
    "from sklearn.linear_model import LogisticRegression\n",
    "import xgboost as xgb\n",
    "from sklearn.model_selection import KFold, cross_val_score, train_test_split\n",
    "import time\n",
    "\n",
    "#create an array of models\n",
    "models = []\n",
    "models.append((\"LR\",LogisticRegression()))\n",
    "models.append((\"NB\",GaussianNB()))\n",
    "models.append((\"RF\",RandomForestClassifier()))\n",
    "models.append((\"SVC\",SVC()))\n",
    "models.append((\"Dtree\",DecisionTreeClassifier()))\n",
    "models.append((\"XGB\",xgb.XGBClassifier()))\n",
    "models.append((\"KNN\",KNeighborsClassifier()))\n",
    "\n",
    "result = []\n",
    "#measure the accuracy \n",
    "for name,model in models:\n",
    "    start_time = time.time()\n",
    "    kfold = KFold(n_splits=2, random_state=22)\n",
    "    cv_result = cross_val_score(model,X_train,y_train, cv = kfold,scoring = \"accuracy\")\n",
    "    execution_time = (time.time() - start_time)\n",
    "    result.append((name,round(cv_result.mean(),4), round(execution_time,2) ))\n",
    "    \n",
    "\n",
    "pd.DataFrame(result)\n",
    "    \n",
    "dfa = pd.DataFrame(result, columns =['Algo', 'Accuracy', 'execution_time']) \n",
    "dfa \n",
    "\n",
    "# sort df by Count column\n",
    "pd_df = dfa.sort_values(['Accuracy']).reset_index(drop=True)\n",
    "print (pd_df)\n",
    "\n",
    "\n",
    "plt.figure(figsize=(5,5))\n",
    "# plot bar chart with index as x values\n",
    "ax = sns.barplot(pd_df.index, pd_df.Accuracy)\n",
    "ax.get_yaxis().set_major_formatter(plt.FuncFormatter(lambda x, loc: \"{:,}\".format(int(x))))\n",
    "ax.set(xlabel=\"Algo\", ylabel=\"Accuracy\")\n",
    "# add proper Dim values as x labels\n",
    "\n",
    "ax.set_xticklabels(pd_df.Algo)\n",
    "for item in ax.get_xticklabels(): item.set_rotation(90)\n",
    "for i, v in enumerate(pd_df[\"Accuracy\"].iteritems()):        \n",
    "    ax.text(i ,v[1], \"{:,}\".format(v[1]), color='b', va ='bottom', rotation=0)\n",
    "plt.tight_layout()\n",
    "plt.show()\n",
    "\n",
    "\n",
    "plt.figure(figsize=(5,5))\n",
    "# plot bar chart with index as x values\n",
    "ax = sns.barplot(pd_df.index, pd_df.execution_time)\n",
    "ax.get_yaxis().set_major_formatter(plt.FuncFormatter(lambda x, loc: \"{:,}\".format(int(x))))\n",
    "ax.set(xlabel=\"Algo\", ylabel=\"execution_time\")\n",
    "# add proper Dim values as x labels\n",
    "\n",
    "ax.set_xticklabels(pd_df.Algo)\n",
    "for item in ax.get_xticklabels(): item.set_rotation(90)\n",
    "for i, v in enumerate(pd_df[\"execution_time\"].iteritems()):        \n",
    "    ax.text(i ,v[1], \"{:,}\".format(v[1]), color='b', va ='bottom', rotation=0)\n",
    "plt.tight_layout()\n",
    "plt.show()\n",
    "\n",
    "\n",
    "\n",
    "\n",
    "#create an array of models\n",
    "models = []\n",
    "models.append((\"LR\",LogisticRegression()))\n",
    "models.append((\"NB\",GaussianNB()))\n",
    "models.append((\"RF\",RandomForestClassifier()))\n",
    "models.append((\"SVC\",SVC()))\n",
    "models.append((\"Dtree\",DecisionTreeClassifier()))\n",
    "models.append((\"XGB\",xgb.XGBClassifier()))\n",
    "models.append((\"KNN\",KNeighborsClassifier()))\n",
    "\n",
    "result = []\n",
    "#measure the accuracy \n",
    "for name,model in models:\n",
    "    start_time = time.time()\n",
    "    kfold = KFold(n_splits=2, random_state=22)\n",
    "    cv_result = cross_val_score(model,X_train,y_train, cv = kfold,scoring = \"f1\")\n",
    "    execution_time = (time.time() - start_time)\n",
    "    result.append((name,round(cv_result.mean(),4), round(execution_time,2) ))\n",
    "    \n",
    "pd.DataFrame(result)\n",
    "    \n",
    "dff = pd.DataFrame(result, columns =['Algo', 'f1', 'execution_time']) \n",
    "dff \n",
    "\n",
    "# sort df by Count column\n",
    "pd_df_f = dff.sort_values(['f1']).reset_index(drop=True)\n",
    "print (pd_df_f)\n",
    "\n",
    "\n",
    "\n",
    "#create an array of models\n",
    "models = []\n",
    "models.append((\"LR\",LogisticRegression()))\n",
    "models.append((\"NB\",GaussianNB()))\n",
    "models.append((\"RF\",RandomForestClassifier()))\n",
    "models.append((\"SVC\",SVC()))\n",
    "models.append((\"Dtree\",DecisionTreeClassifier()))\n",
    "models.append((\"XGB\",xgb.XGBClassifier()))\n",
    "models.append((\"KNN\",KNeighborsClassifier()))\n",
    "\n",
    "result = []\n",
    "#measure the accuracy \n",
    "for name,model in models:\n",
    "    start_time = time.time()\n",
    "    kfold = KFold(n_splits=2, random_state=22)\n",
    "    cv_result = cross_val_score(model,X_train,y_train, cv = kfold,scoring = \"roc_auc\")\n",
    "    execution_time = (time.time() - start_time)\n",
    "    result.append((name,round(cv_result.mean(),4), round(execution_time,2) ))\n",
    "    \n",
    "\n",
    "pd.DataFrame(result)\n",
    "    \n",
    "dfr = pd.DataFrame(result, columns =['Algo', 'roc_auc', 'execution_time']) \n",
    "dfr \n",
    "\n",
    "# sort df by Count column\n",
    "pd_df_r = dfr.sort_values(['roc_auc']).reset_index(drop=True)\n",
    "print (pd_df_r)\n",
    "\n",
    "\n",
    "\n",
    "# Merge \n",
    "pd_df1 = pd_df.copy()\n",
    "pd_df1.drop(['execution_time'], axis=1, inplace=True)\n",
    "\n",
    "pd_df_f1 = pd_df_f.copy()\n",
    "pd_df_f1.drop(['execution_time'], axis=1, inplace=True)\n",
    "\n",
    "pd_df_r1 = pd_df_r.copy()\n",
    "pd_df_r1.drop(['execution_time'], axis=1, inplace=True)\n",
    "\n",
    "\n",
    "result1_pp = pd.merge(pd_df1, pd_df_f1, left_on=['Algo'], right_on=['Algo'], how='left')\n",
    "result2_pp = pd.merge(result1_pp, pd_df_r1, left_on=['Algo'], right_on=['Algo'], how='left')\n",
    "\n",
    "result2_pp\n",
    "\n",
    "\n",
    "# Rename \n",
    "pd_df1.rename(columns={\"Accuracy\": \"Performance\"}, inplace = True)\n",
    "pd_df_f1.rename(columns={\"f1\": \"Performance\"}, inplace = True)\n",
    "pd_df_r1.rename(columns={\"roc_auc\": \"Performance\"}, inplace = True)\n",
    "\n",
    "pd_df1['metric'] = 'Accuracy'\n",
    "pd_df_f1['metric'] = 'F1'\n",
    "pd_df_r1['metric'] = 'ROC'\n",
    "\n",
    "df_performance1 = pd_df1\n",
    "\n",
    "df_performance2 = df_performance1.append(pd_df_f1)\n",
    "\n",
    "df_performance = df_performance2.append(pd_df_r1)\n",
    "df_performance\n",
    "df_performance = df_performance.sort_values([\"Algo\",\"metric\"], ascending = (True, True))\n",
    "\n",
    "\n",
    "import plotly.express as px\n",
    "\n",
    "df = df_performance\n",
    "fig = px.line(df, x=\"Algo\", y=\"Performance\", color = 'metric')\n",
    "\n",
    "fig.show()"
   ]
  },
  {
   "cell_type": "markdown",
   "metadata": {},
   "source": [
    "<h1 style=\"color:DodgerBlue;\">Hyper Parameter Optimization</h1>"
   ]
  },
  {
   "cell_type": "code",
   "execution_count": 36,
   "metadata": {},
   "outputs": [],
   "source": [
    "# Data Handling\n",
    "from pandas import read_csv\n",
    "import os\n",
    "import pandas as pd\n",
    "import numpy as np\n",
    "import time\n",
    "\n",
    "# Modeling\n",
    "import xgboost\n",
    "from xgboost import XGBClassifier\n",
    "from sklearn.model_selection import GridSearchCV\n",
    "from sklearn.model_selection import StratifiedKFold\n",
    "from sklearn.preprocessing import LabelEncoder\n",
    "\n",
    "# Visualization\n",
    "import matplotlib\n",
    "from matplotlib import pyplot\n",
    "\n",
    "## Hyperparameter optimization using RandomizedSearchCV\n",
    "from sklearn.model_selection import RandomizedSearchCV, GridSearchCV\n",
    "\n"
   ]
  },
  {
   "cell_type": "code",
   "execution_count": 38,
   "metadata": {},
   "outputs": [],
   "source": [
    "\n",
    "from sklearn.model_selection import train_test_split, cross_val_score\n",
    "\n",
    "\n",
    "# Split data to 80% training data and 20% of test to check the accuracy of our model\n",
    "X_train, X_test, y_train, y_test = train_test_split(predictor2, target2, test_size=0.20, random_state=0)\n"
   ]
  },
  {
   "cell_type": "code",
   "execution_count": 39,
   "metadata": {},
   "outputs": [],
   "source": [
    "## Hyper Parameter Optimization\n",
    "n_estimators = range(100, 1600, 100)\n",
    "max_depth = range(3, 21, 1)\n",
    "learning_rate = [0.01, 0.03, 0.05, 0.10, 0.15, 0.20, 0.25, 0.3] \n",
    "gamma = [ 0.0, 0.1,  0.4,   0.9, 1 , 2, 5 , 10, 15, 20 ]\n",
    "\n",
    "min_child_weight = range(1, 21, 1)\n",
    "subsample = [0.1, 0.2 , 0.3, 0.4, 0.5, 0.6, 0.7, 0.8, 0.9, 1.0 ]\n",
    "colsample_bytree = [ 0.1, 0.2 , 0.3, 0.4, 0.5, 0.6, 0.7, 0.8, 0.9, 1.0  ]\n",
    "\n",
    "reg_lambda = [1e-5,1e-4,1e-3, 1e-2, 0.1, 1,10, 100]\n",
    "reg_alpha = [1e-5,1e-4,1e-3, 1e-2, 0.1, 1,10, 100]\n",
    "\n",
    "scale_pos_weight = [1e-5,1e-4,1e-3, 1e-2, 0.1, 1,10, 100]\n",
    "\n",
    "max_delta_step  = range(0, 21, 1)"
   ]
  },
  {
   "cell_type": "code",
   "execution_count": 40,
   "metadata": {},
   "outputs": [
    {
     "name": "stdout",
     "output_type": "stream",
     "text": [
      "Fitting 5 folds for each of 5 candidates, totalling 25 fits\n"
     ]
    },
    {
     "name": "stderr",
     "output_type": "stream",
     "text": [
      "[Parallel(n_jobs=-1)]: Using backend LokyBackend with 12 concurrent workers.\n",
      "[Parallel(n_jobs=-1)]: Done  25 out of  25 | elapsed:  4.1min finished\n"
     ]
    },
    {
     "name": "stdout",
     "output_type": "stream",
     "text": [
      "[10:44:54] WARNING: C:/Users/Administrator/workspace/xgboost-win64_release_1.4.0/src/learner.cc:1095: Starting in XGBoost 1.3.0, the default evaluation metric used with the objective 'binary:logistic' was changed from 'error' to 'logloss'. Explicitly set eval_metric if you'd like to restore the old behavior.\n",
      "Successfully executed in 4.5 mins\n"
     ]
    }
   ],
   "source": [
    "# Modeling\n",
    "import xgboost\n",
    "## Hyperparameter optimization using RandomizedSearchCV\n",
    "from sklearn.model_selection import RandomizedSearchCV, GridSearchCV\n",
    "# Create Model Object\n",
    "classifier=xgboost.XGBClassifier()\n",
    "\n",
    "# Initiate start time\n",
    "start_time = time.time()\n",
    "\n",
    "# Parameters\n",
    "params = dict(learning_rate = learning_rate, max_depth = max_depth, min_child_weight = min_child_weight, gamma = gamma, colsample_bytree = colsample_bytree, n_estimators = n_estimators, subsample=subsample )\n",
    "\n",
    "# Check Best parameters\n",
    "random_search=RandomizedSearchCV(classifier,param_distributions=params,n_iter=5,scoring='accuracy',n_jobs=-1,cv=5,verbose=1)\n",
    "random_result = random_search.fit(X_train,y_train)\n",
    "\n",
    "# Check Execution time\n",
    "end_time = time.time()\n",
    "execution_time = (end_time - start_time)\n",
    "print(\"Successfully executed in\", round(execution_time/60,1), \"mins\")\n"
   ]
  },
  {
   "cell_type": "code",
   "execution_count": 41,
   "metadata": {},
   "outputs": [
    {
     "data": {
      "text/plain": [
       "XGBClassifier(base_score=0.5, booster='gbtree', colsample_bylevel=1,\n",
       "              colsample_bynode=1, colsample_bytree=0.6, gamma=10, gpu_id=-1,\n",
       "              importance_type='gain', interaction_constraints='',\n",
       "              learning_rate=0.05, max_delta_step=0, max_depth=15,\n",
       "              min_child_weight=13, missing=nan, monotone_constraints='()',\n",
       "              n_estimators=900, n_jobs=12, num_parallel_tree=1, random_state=0,\n",
       "              reg_alpha=0, reg_lambda=1, scale_pos_weight=1, subsample=0.5,\n",
       "              tree_method='exact', validate_parameters=1, verbosity=None)"
      ]
     },
     "execution_count": 41,
     "metadata": {},
     "output_type": "execute_result"
    }
   ],
   "source": [
    "random_result.best_estimator_"
   ]
  },
  {
   "cell_type": "code",
   "execution_count": 42,
   "metadata": {},
   "outputs": [
    {
     "name": "stdout",
     "output_type": "stream",
     "text": [
      "[10:47:33] WARNING: C:/Users/Administrator/workspace/xgboost-win64_release_1.4.0/src/learner.cc:1095: Starting in XGBoost 1.3.0, the default evaluation metric used with the objective 'binary:logistic' was changed from 'error' to 'logloss'. Explicitly set eval_metric if you'd like to restore the old behavior.\n",
      "[10:47:50] WARNING: C:/Users/Administrator/workspace/xgboost-win64_release_1.4.0/src/learner.cc:1095: Starting in XGBoost 1.3.0, the default evaluation metric used with the objective 'binary:logistic' was changed from 'error' to 'logloss'. Explicitly set eval_metric if you'd like to restore the old behavior.\n",
      "[10:48:08] WARNING: C:/Users/Administrator/workspace/xgboost-win64_release_1.4.0/src/learner.cc:1095: Starting in XGBoost 1.3.0, the default evaluation metric used with the objective 'binary:logistic' was changed from 'error' to 'logloss'. Explicitly set eval_metric if you'd like to restore the old behavior.\n",
      "[10:48:26] WARNING: C:/Users/Administrator/workspace/xgboost-win64_release_1.4.0/src/learner.cc:1095: Starting in XGBoost 1.3.0, the default evaluation metric used with the objective 'binary:logistic' was changed from 'error' to 'logloss'. Explicitly set eval_metric if you'd like to restore the old behavior.\n",
      "[10:48:45] WARNING: C:/Users/Administrator/workspace/xgboost-win64_release_1.4.0/src/learner.cc:1095: Starting in XGBoost 1.3.0, the default evaluation metric used with the objective 'binary:logistic' was changed from 'error' to 'logloss'. Explicitly set eval_metric if you'd like to restore the old behavior.\n",
      "Recall 0.9140076010091376 [0.91147281 0.91425169 0.90432711 0.91425169 0.92573471]\n",
      "[10:49:04] WARNING: C:/Users/Administrator/workspace/xgboost-win64_release_1.4.0/src/learner.cc:1095: Starting in XGBoost 1.3.0, the default evaluation metric used with the objective 'binary:logistic' was changed from 'error' to 'logloss'. Explicitly set eval_metric if you'd like to restore the old behavior.\n",
      "[10:49:22] WARNING: C:/Users/Administrator/workspace/xgboost-win64_release_1.4.0/src/learner.cc:1095: Starting in XGBoost 1.3.0, the default evaluation metric used with the objective 'binary:logistic' was changed from 'error' to 'logloss'. Explicitly set eval_metric if you'd like to restore the old behavior.\n",
      "[10:49:42] WARNING: C:/Users/Administrator/workspace/xgboost-win64_release_1.4.0/src/learner.cc:1095: Starting in XGBoost 1.3.0, the default evaluation metric used with the objective 'binary:logistic' was changed from 'error' to 'logloss'. Explicitly set eval_metric if you'd like to restore the old behavior.\n",
      "[10:50:01] WARNING: C:/Users/Administrator/workspace/xgboost-win64_release_1.4.0/src/learner.cc:1095: Starting in XGBoost 1.3.0, the default evaluation metric used with the objective 'binary:logistic' was changed from 'error' to 'logloss'. Explicitly set eval_metric if you'd like to restore the old behavior.\n",
      "[10:50:20] WARNING: C:/Users/Administrator/workspace/xgboost-win64_release_1.4.0/src/learner.cc:1095: Starting in XGBoost 1.3.0, the default evaluation metric used with the objective 'binary:logistic' was changed from 'error' to 'logloss'. Explicitly set eval_metric if you'd like to restore the old behavior.\n",
      "Precision 0.8459797241419725 [0.83248731 0.84482759 0.85222596 0.8551801  0.84517766]\n",
      "[10:50:39] WARNING: C:/Users/Administrator/workspace/xgboost-win64_release_1.4.0/src/learner.cc:1095: Starting in XGBoost 1.3.0, the default evaluation metric used with the objective 'binary:logistic' was changed from 'error' to 'logloss'. Explicitly set eval_metric if you'd like to restore the old behavior.\n",
      "[10:50:58] WARNING: C:/Users/Administrator/workspace/xgboost-win64_release_1.4.0/src/learner.cc:1095: Starting in XGBoost 1.3.0, the default evaluation metric used with the objective 'binary:logistic' was changed from 'error' to 'logloss'. Explicitly set eval_metric if you'd like to restore the old behavior.\n",
      "[10:51:17] WARNING: C:/Users/Administrator/workspace/xgboost-win64_release_1.4.0/src/learner.cc:1095: Starting in XGBoost 1.3.0, the default evaluation metric used with the objective 'binary:logistic' was changed from 'error' to 'logloss'. Explicitly set eval_metric if you'd like to restore the old behavior.\n",
      "[10:51:37] WARNING: C:/Users/Administrator/workspace/xgboost-win64_release_1.4.0/src/learner.cc:1095: Starting in XGBoost 1.3.0, the default evaluation metric used with the objective 'binary:logistic' was changed from 'error' to 'logloss'. Explicitly set eval_metric if you'd like to restore the old behavior.\n",
      "[10:51:57] WARNING: C:/Users/Administrator/workspace/xgboost-win64_release_1.4.0/src/learner.cc:1095: Starting in XGBoost 1.3.0, the default evaluation metric used with the objective 'binary:logistic' was changed from 'error' to 'logloss'. Explicitly set eval_metric if you'd like to restore the old behavior.\n",
      "F1 0.8786437491695848 [0.8701914  0.87816969 0.87750385 0.88372985 0.88362396]\n"
     ]
    }
   ],
   "source": [
    "classifier=xgboost.XGBClassifier(base_score=0.5, booster='gbtree', colsample_bylevel=1,\n",
    "              colsample_bynode=1, colsample_bytree=0.6, gamma=10, gpu_id=-1,\n",
    "              importance_type='gain', interaction_constraints='',\n",
    "              learning_rate=0.05, max_delta_step=0, max_depth=15,\n",
    "              min_child_weight=13, monotone_constraints='()',\n",
    "              n_estimators=900, n_jobs=12, num_parallel_tree=1, random_state=0,\n",
    "              reg_alpha=0, reg_lambda=1, scale_pos_weight=1, subsample=0.5,\n",
    "              tree_method='exact', validate_parameters=1, verbosity=None)\n",
    "\n",
    "from sklearn.model_selection import cross_val_score\n",
    "kfold = StratifiedKFold(n_splits=5, shuffle=True, random_state=7)\n",
    "\n",
    "recall = cross_val_score(classifier, X_train, y_train, cv=5, scoring='recall')\n",
    "print('Recall', np.mean(recall), recall)\n",
    "precision = cross_val_score(classifier, X_train, y_train, cv=5, scoring='precision')\n",
    "print('Precision', np.mean(precision), precision)\n",
    "f1 = cross_val_score(classifier, X_train, y_train, cv=5, scoring='f1')\n",
    "print('F1', np.mean(f1), f1)"
   ]
  },
  {
   "cell_type": "markdown",
   "metadata": {},
   "source": [
    "<h1 style=\"color:DodgerBlue;\">Conclusion</h1>"
   ]
  },
  {
   "cell_type": "markdown",
   "metadata": {},
   "source": [
    "<strong style=\"color:Tomato;\"> Recall 91.4 % </strong>    \n",
    "\n",
    "<strong style=\"color:Tomato;\"> Precision 84.59 % </strong>  \n",
    "\n",
    "<strong style=\"color:Tomato;\"> F1 87.86 %</strong>    \n",
    "\n"
   ]
  }
 ],
 "metadata": {
  "kernelspec": {
   "display_name": "Python 3",
   "language": "python",
   "name": "python3"
  },
  "language_info": {
   "codemirror_mode": {
    "name": "ipython",
    "version": 3
   },
   "file_extension": ".py",
   "mimetype": "text/x-python",
   "name": "python",
   "nbconvert_exporter": "python",
   "pygments_lexer": "ipython3",
   "version": "3.8.5"
  }
 },
 "nbformat": 4,
 "nbformat_minor": 2
}
