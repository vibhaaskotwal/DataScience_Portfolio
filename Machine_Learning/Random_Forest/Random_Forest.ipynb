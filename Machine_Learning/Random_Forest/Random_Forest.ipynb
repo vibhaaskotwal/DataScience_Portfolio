{
 "cells": [
  {
   "cell_type": "markdown",
   "metadata": {},
   "source": [
    "# Random Forest"
   ]
  },
  {
   "cell_type": "markdown",
   "metadata": {},
   "source": [
    "<b>Reference</b>\n",
    "\n",
    "- https://www.datacamp.com/community/tutorials/random-forests-classifier-python\n",
    "- https://machinelearningmastery.com/random-forest-ensemble-in-python/\n",
    "- https://towardsdatascience.com/an-implementation-and-explanation-of-the-random-forest-in-python-77bf308a9b76\n",
    "- https://stackabuse.com/random-forest-algorithm-with-python-and-scikit-learn/\n",
    "\n",
    "- https://scikit-learn.org/stable/auto_examples/miscellaneous/plot_roc_curve_visualization_api.html\n",
    "- "
   ]
  },
  {
   "cell_type": "markdown",
   "metadata": {},
   "source": [
    "## Load Data"
   ]
  },
  {
   "cell_type": "code",
   "execution_count": 5,
   "metadata": {},
   "outputs": [
    {
     "name": "stdout",
     "output_type": "stream",
     "text": [
      "['setosa' 'versicolor' 'virginica']\n",
      "['sepal length (cm)', 'sepal width (cm)', 'petal length (cm)', 'petal width (cm)']\n"
     ]
    }
   ],
   "source": [
    "#Import scikit-learn dataset library\n",
    "from sklearn import datasets\n",
    "\n",
    "#Load dataset\n",
    "iris = datasets.load_iris()\n",
    "\n",
    "# print the label species(setosa, versicolor,virginica)\n",
    "print(iris.target_names)\n",
    "\n",
    "# print the names of the four features\n",
    "print(iris.feature_names)"
   ]
  },
  {
   "cell_type": "code",
   "execution_count": 6,
   "metadata": {},
   "outputs": [
    {
     "name": "stdout",
     "output_type": "stream",
     "text": [
      "[[5.1 3.5 1.4 0.2]\n",
      " [4.9 3.  1.4 0.2]\n",
      " [4.7 3.2 1.3 0.2]\n",
      " [4.6 3.1 1.5 0.2]\n",
      " [5.  3.6 1.4 0.2]]\n",
      "[0 0 0 0 0 0 0 0 0 0 0 0 0 0 0 0 0 0 0 0 0 0 0 0 0 0 0 0 0 0 0 0 0 0 0 0 0\n",
      " 0 0 0 0 0 0 0 0 0 0 0 0 0 1 1 1 1 1 1 1 1 1 1 1 1 1 1 1 1 1 1 1 1 1 1 1 1\n",
      " 1 1 1 1 1 1 1 1 1 1 1 1 1 1 1 1 1 1 1 1 1 1 1 1 1 1 2 2 2 2 2 2 2 2 2 2 2\n",
      " 2 2 2 2 2 2 2 2 2 2 2 2 2 2 2 2 2 2 2 2 2 2 2 2 2 2 2 2 2 2 2 2 2 2 2 2 2\n",
      " 2 2]\n"
     ]
    }
   ],
   "source": [
    "# print the iris data (top 5 records)\n",
    "print(iris.data[0:5])\n",
    "\n",
    "# print the iris labels (0:setosa, 1:versicolor, 2:virginica)\n",
    "print(iris.target)"
   ]
  },
  {
   "cell_type": "code",
   "execution_count": 7,
   "metadata": {},
   "outputs": [
    {
     "data": {
      "text/html": [
       "<div>\n",
       "<style scoped>\n",
       "    .dataframe tbody tr th:only-of-type {\n",
       "        vertical-align: middle;\n",
       "    }\n",
       "\n",
       "    .dataframe tbody tr th {\n",
       "        vertical-align: top;\n",
       "    }\n",
       "\n",
       "    .dataframe thead th {\n",
       "        text-align: right;\n",
       "    }\n",
       "</style>\n",
       "<table border=\"1\" class=\"dataframe\">\n",
       "  <thead>\n",
       "    <tr style=\"text-align: right;\">\n",
       "      <th></th>\n",
       "      <th>sepal length</th>\n",
       "      <th>sepal width</th>\n",
       "      <th>petal length</th>\n",
       "      <th>petal width</th>\n",
       "      <th>species</th>\n",
       "    </tr>\n",
       "  </thead>\n",
       "  <tbody>\n",
       "    <tr>\n",
       "      <th>0</th>\n",
       "      <td>5.1</td>\n",
       "      <td>3.5</td>\n",
       "      <td>1.4</td>\n",
       "      <td>0.2</td>\n",
       "      <td>0</td>\n",
       "    </tr>\n",
       "    <tr>\n",
       "      <th>1</th>\n",
       "      <td>4.9</td>\n",
       "      <td>3.0</td>\n",
       "      <td>1.4</td>\n",
       "      <td>0.2</td>\n",
       "      <td>0</td>\n",
       "    </tr>\n",
       "    <tr>\n",
       "      <th>2</th>\n",
       "      <td>4.7</td>\n",
       "      <td>3.2</td>\n",
       "      <td>1.3</td>\n",
       "      <td>0.2</td>\n",
       "      <td>0</td>\n",
       "    </tr>\n",
       "    <tr>\n",
       "      <th>3</th>\n",
       "      <td>4.6</td>\n",
       "      <td>3.1</td>\n",
       "      <td>1.5</td>\n",
       "      <td>0.2</td>\n",
       "      <td>0</td>\n",
       "    </tr>\n",
       "    <tr>\n",
       "      <th>4</th>\n",
       "      <td>5.0</td>\n",
       "      <td>3.6</td>\n",
       "      <td>1.4</td>\n",
       "      <td>0.2</td>\n",
       "      <td>0</td>\n",
       "    </tr>\n",
       "  </tbody>\n",
       "</table>\n",
       "</div>"
      ],
      "text/plain": [
       "   sepal length  sepal width  petal length  petal width  species\n",
       "0           5.1          3.5           1.4          0.2        0\n",
       "1           4.9          3.0           1.4          0.2        0\n",
       "2           4.7          3.2           1.3          0.2        0\n",
       "3           4.6          3.1           1.5          0.2        0\n",
       "4           5.0          3.6           1.4          0.2        0"
      ]
     },
     "execution_count": 7,
     "metadata": {},
     "output_type": "execute_result"
    }
   ],
   "source": [
    "# Creating a DataFrame of given iris dataset.\n",
    "import pandas as pd\n",
    "data=pd.DataFrame({\n",
    "    'sepal length':iris.data[:,0],\n",
    "    'sepal width':iris.data[:,1],\n",
    "    'petal length':iris.data[:,2],\n",
    "    'petal width':iris.data[:,3],\n",
    "    'species':iris.target\n",
    "})\n",
    "data.head()"
   ]
  },
  {
   "cell_type": "markdown",
   "metadata": {},
   "source": [
    "## Prepare Data"
   ]
  },
  {
   "cell_type": "code",
   "execution_count": 8,
   "metadata": {},
   "outputs": [],
   "source": [
    "# Import train_test_split function\n",
    "from sklearn.model_selection import train_test_split\n",
    "\n",
    "X=data[['sepal length', 'sepal width', 'petal length', 'petal width']]  # Features\n",
    "y=data['species']  # Labels\n",
    "\n",
    "# Split dataset into training set and test set\n",
    "X_train, X_test, y_train, y_test = train_test_split(X, y, test_size=0.3) # 70% training and 30% test"
   ]
  },
  {
   "cell_type": "markdown",
   "metadata": {},
   "source": [
    "## Create Model"
   ]
  },
  {
   "cell_type": "code",
   "execution_count": 9,
   "metadata": {},
   "outputs": [],
   "source": [
    "#Import Random Forest Model\n",
    "from sklearn.ensemble import RandomForestClassifier\n",
    "\n",
    "#Create a Gaussian Classifier\n",
    "clf=RandomForestClassifier(n_estimators=100)\n",
    "\n",
    "#Train the model using the training sets y_pred=clf.predict(X_test)\n",
    "clf.fit(X_train,y_train)\n",
    "\n",
    "y_pred=clf.predict(X_test)"
   ]
  },
  {
   "cell_type": "markdown",
   "metadata": {},
   "source": [
    "## Evaluate"
   ]
  },
  {
   "cell_type": "code",
   "execution_count": 10,
   "metadata": {},
   "outputs": [
    {
     "name": "stdout",
     "output_type": "stream",
     "text": [
      "Accuracy: 0.9777777777777777\n"
     ]
    }
   ],
   "source": [
    "#Import scikit-learn metrics module for accuracy calculation\n",
    "from sklearn import metrics\n",
    "# Model Accuracy, how often is the classifier correct?\n",
    "print(\"Accuracy:\",metrics.accuracy_score(y_test, y_pred))"
   ]
  },
  {
   "cell_type": "code",
   "execution_count": 11,
   "metadata": {},
   "outputs": [
    {
     "data": {
      "text/plain": [
       "array([1])"
      ]
     },
     "execution_count": 11,
     "metadata": {},
     "output_type": "execute_result"
    }
   ],
   "source": [
    "# Now you can predict which type of flower it is.\n",
    "clf.predict([[3, 5, 4, 2]])\n",
    "\n",
    "# Here, 2 indicates the flower type Virginica.\n"
   ]
  },
  {
   "cell_type": "markdown",
   "metadata": {},
   "source": [
    "## Finding Important Features \n",
    "\n",
    "- First, you need to create a random forests model.\n",
    "- Second, use the feature importance variable to see feature importance scores.\n",
    "- Third, visualize these scores using the seaborn library."
   ]
  },
  {
   "cell_type": "code",
   "execution_count": 12,
   "metadata": {},
   "outputs": [
    {
     "data": {
      "text/plain": [
       "petal width (cm)     0.445975\n",
       "petal length (cm)    0.414852\n",
       "sepal length (cm)    0.106556\n",
       "sepal width (cm)     0.032618\n",
       "dtype: float64"
      ]
     },
     "execution_count": 12,
     "metadata": {},
     "output_type": "execute_result"
    }
   ],
   "source": [
    "from sklearn.ensemble import RandomForestClassifier\n",
    "\n",
    "#Create a Gaussian Classifier\n",
    "clf=RandomForestClassifier(n_estimators=100)\n",
    "\n",
    "#Train the model using the training sets y_pred=clf.predict(X_test)\n",
    "clf.fit(X_train,y_train)\n",
    "\n",
    "\n",
    "import pandas as pd\n",
    "feature_imp = pd.Series(clf.feature_importances_,index=iris.feature_names).sort_values(ascending=False)\n",
    "feature_imp"
   ]
  },
  {
   "cell_type": "markdown",
   "metadata": {},
   "source": [
    "### Visualize the Feature Importance"
   ]
  },
  {
   "cell_type": "code",
   "execution_count": 13,
   "metadata": {},
   "outputs": [
    {
     "name": "stderr",
     "output_type": "stream",
     "text": [
      "No handles with labels found to put in legend.\n"
     ]
    },
    {
     "data": {
      "image/png": "[encoded data removed]",
      "text/plain": [
       "<Figure size 432x288 with 1 Axes>"
      ]
     },
     "metadata": {
      "needs_background": "light"
     },
     "output_type": "display_data"
    }
   ],
   "source": [
    "import matplotlib.pyplot as plt\n",
    "import seaborn as sns\n",
    "%matplotlib inline\n",
    "# Creating a bar plot\n",
    "sns.barplot(x=feature_imp, y=feature_imp.index)\n",
    "# Add labels to your graph\n",
    "plt.xlabel('Feature Importance Score')\n",
    "plt.ylabel('Features')\n",
    "plt.title(\"Visualizing Important Features\")\n",
    "plt.legend()\n",
    "plt.show()"
   ]
  },
  {
   "cell_type": "markdown",
   "metadata": {},
   "source": [
    "## Generating the Model on Selected Features"
   ]
  },
  {
   "cell_type": "code",
   "execution_count": 14,
   "metadata": {},
   "outputs": [
    {
     "name": "stdout",
     "output_type": "stream",
     "text": [
      "Accuracy: 0.9523809523809523\n"
     ]
    }
   ],
   "source": [
    "# Import train_test_split function\n",
    "from sklearn.model_selection import train_test_split\n",
    "# Split dataset into features and labels\n",
    "X=data[['petal length', 'petal width','sepal length']]  # Removed feature \"sepal length\"\n",
    "y=data['species']                                       \n",
    "# Split dataset into training set and test set\n",
    "X_train, X_test, y_train, y_test = train_test_split(X, y, test_size=0.70, random_state=5) # 70% training and 30% test\n",
    "\n",
    "\n",
    "from sklearn.ensemble import RandomForestClassifier\n",
    "\n",
    "#Create a Gaussian Classifier\n",
    "clf=RandomForestClassifier(n_estimators=100)\n",
    "\n",
    "#Train the model using the training sets y_pred=clf.predict(X_test)\n",
    "clf.fit(X_train,y_train)\n",
    "\n",
    "# prediction on test set\n",
    "y_pred=clf.predict(X_test)\n",
    "\n",
    "#Import scikit-learn metrics module for accuracy calculation\n",
    "from sklearn import metrics\n",
    "# Model Accuracy, how often is the classifier correct?\n",
    "print(\"Accuracy:\",metrics.accuracy_score(y_test, y_pred))"
   ]
  },
  {
   "cell_type": "markdown",
   "metadata": {},
   "source": [
    "## Credit Use Case"
   ]
  },
  {
   "cell_type": "code",
   "execution_count": 15,
   "metadata": {},
   "outputs": [
    {
     "data": {
      "text/html": [
       "<div>\n",
       "<style scoped>\n",
       "    .dataframe tbody tr th:only-of-type {\n",
       "        vertical-align: middle;\n",
       "    }\n",
       "\n",
       "    .dataframe tbody tr th {\n",
       "        vertical-align: top;\n",
       "    }\n",
       "\n",
       "    .dataframe thead th {\n",
       "        text-align: right;\n",
       "    }\n",
       "</style>\n",
       "<table border=\"1\" class=\"dataframe\">\n",
       "  <thead>\n",
       "    <tr style=\"text-align: right;\">\n",
       "      <th></th>\n",
       "      <th>VMail.Message</th>\n",
       "      <th>Day.Mins</th>\n",
       "      <th>Day.Calls</th>\n",
       "      <th>Day.Charge</th>\n",
       "      <th>Eve.Mins</th>\n",
       "      <th>Eve.Calls</th>\n",
       "      <th>Eve.Charge</th>\n",
       "      <th>Night.Mins</th>\n",
       "      <th>Night.Calls</th>\n",
       "      <th>Night.Charge</th>\n",
       "      <th>Intl.Mins</th>\n",
       "      <th>Intl.Calls</th>\n",
       "      <th>Intl.Charge</th>\n",
       "      <th>CustServ.Calls</th>\n",
       "      <th>Int.l.Plan</th>\n",
       "      <th>VMail.Plan</th>\n",
       "      <th>Churn</th>\n",
       "    </tr>\n",
       "  </thead>\n",
       "  <tbody>\n",
       "    <tr>\n",
       "      <th>0</th>\n",
       "      <td>25</td>\n",
       "      <td>265.1</td>\n",
       "      <td>110</td>\n",
       "      <td>45.07</td>\n",
       "      <td>197.4</td>\n",
       "      <td>99</td>\n",
       "      <td>16.78</td>\n",
       "      <td>244.7</td>\n",
       "      <td>91</td>\n",
       "      <td>11.01</td>\n",
       "      <td>10.0</td>\n",
       "      <td>3</td>\n",
       "      <td>2.70</td>\n",
       "      <td>1</td>\n",
       "      <td>0</td>\n",
       "      <td>1</td>\n",
       "      <td>0</td>\n",
       "    </tr>\n",
       "    <tr>\n",
       "      <th>1</th>\n",
       "      <td>26</td>\n",
       "      <td>161.6</td>\n",
       "      <td>123</td>\n",
       "      <td>27.47</td>\n",
       "      <td>195.5</td>\n",
       "      <td>103</td>\n",
       "      <td>16.62</td>\n",
       "      <td>254.4</td>\n",
       "      <td>103</td>\n",
       "      <td>11.45</td>\n",
       "      <td>13.7</td>\n",
       "      <td>3</td>\n",
       "      <td>3.70</td>\n",
       "      <td>1</td>\n",
       "      <td>0</td>\n",
       "      <td>1</td>\n",
       "      <td>0</td>\n",
       "    </tr>\n",
       "    <tr>\n",
       "      <th>2</th>\n",
       "      <td>0</td>\n",
       "      <td>243.4</td>\n",
       "      <td>114</td>\n",
       "      <td>41.38</td>\n",
       "      <td>121.2</td>\n",
       "      <td>110</td>\n",
       "      <td>10.30</td>\n",
       "      <td>162.6</td>\n",
       "      <td>104</td>\n",
       "      <td>7.32</td>\n",
       "      <td>12.2</td>\n",
       "      <td>5</td>\n",
       "      <td>3.29</td>\n",
       "      <td>0</td>\n",
       "      <td>0</td>\n",
       "      <td>0</td>\n",
       "      <td>0</td>\n",
       "    </tr>\n",
       "    <tr>\n",
       "      <th>3</th>\n",
       "      <td>0</td>\n",
       "      <td>299.4</td>\n",
       "      <td>71</td>\n",
       "      <td>50.90</td>\n",
       "      <td>61.9</td>\n",
       "      <td>88</td>\n",
       "      <td>5.26</td>\n",
       "      <td>196.9</td>\n",
       "      <td>89</td>\n",
       "      <td>8.86</td>\n",
       "      <td>6.6</td>\n",
       "      <td>7</td>\n",
       "      <td>1.78</td>\n",
       "      <td>2</td>\n",
       "      <td>1</td>\n",
       "      <td>0</td>\n",
       "      <td>0</td>\n",
       "    </tr>\n",
       "    <tr>\n",
       "      <th>4</th>\n",
       "      <td>0</td>\n",
       "      <td>166.7</td>\n",
       "      <td>113</td>\n",
       "      <td>28.34</td>\n",
       "      <td>148.3</td>\n",
       "      <td>122</td>\n",
       "      <td>12.61</td>\n",
       "      <td>186.9</td>\n",
       "      <td>121</td>\n",
       "      <td>8.41</td>\n",
       "      <td>10.1</td>\n",
       "      <td>3</td>\n",
       "      <td>2.73</td>\n",
       "      <td>3</td>\n",
       "      <td>1</td>\n",
       "      <td>0</td>\n",
       "      <td>0</td>\n",
       "    </tr>\n",
       "  </tbody>\n",
       "</table>\n",
       "</div>"
      ],
      "text/plain": [
       "   VMail.Message  Day.Mins  Day.Calls  Day.Charge  Eve.Mins  Eve.Calls  \\\n",
       "0             25     265.1        110       45.07     197.4         99   \n",
       "1             26     161.6        123       27.47     195.5        103   \n",
       "2              0     243.4        114       41.38     121.2        110   \n",
       "3              0     299.4         71       50.90      61.9         88   \n",
       "4              0     166.7        113       28.34     148.3        122   \n",
       "\n",
       "   Eve.Charge  Night.Mins  Night.Calls  Night.Charge  Intl.Mins  Intl.Calls  \\\n",
       "0       16.78       244.7           91         11.01       10.0           3   \n",
       "1       16.62       254.4          103         11.45       13.7           3   \n",
       "2       10.30       162.6          104          7.32       12.2           5   \n",
       "3        5.26       196.9           89          8.86        6.6           7   \n",
       "4       12.61       186.9          121          8.41       10.1           3   \n",
       "\n",
       "   Intl.Charge  CustServ.Calls  Int.l.Plan  VMail.Plan  Churn  \n",
       "0         2.70               1           0           1      0  \n",
       "1         3.70               1           0           1      0  \n",
       "2         3.29               0           0           0      0  \n",
       "3         1.78               2           1           0      0  \n",
       "4         2.73               3           1           0      0  "
      ]
     },
     "execution_count": 15,
     "metadata": {},
     "output_type": "execute_result"
    }
   ],
   "source": [
    "import pandas as pd\n",
    "\n",
    "df_churn_data_0 = pd.read_csv(r\"C:\\Users\\Artist of Analytics\\ArtistofAnalytics\\Algorithms\\Random_Forest\\credit_data_modified.csv\")\n",
    "\n",
    "df_churn_data_1 = df_churn_data_0.iloc[: , 1:]\n",
    "df_churn_data_1.head()"
   ]
  },
  {
   "cell_type": "code",
   "execution_count": 16,
   "metadata": {},
   "outputs": [
    {
     "data": {
      "text/plain": [
       "Index(['VMail.Message', 'Day.Mins', 'Day.Calls', 'Day.Charge', 'Eve.Mins',\n",
       "       'Eve.Calls', 'Eve.Charge', 'Night.Mins', 'Night.Calls', 'Night.Charge',\n",
       "       'Intl.Mins', 'Intl.Calls', 'Intl.Charge', 'CustServ.Calls',\n",
       "       'Int.l.Plan', 'VMail.Plan', 'Churn'],\n",
       "      dtype='object')"
      ]
     },
     "execution_count": 16,
     "metadata": {},
     "output_type": "execute_result"
    }
   ],
   "source": [
    "df_churn_data_0.columns\n",
    "df_churn_data_1.columns"
   ]
  },
  {
   "cell_type": "code",
   "execution_count": 17,
   "metadata": {},
   "outputs": [],
   "source": [
    "#split dataset in features and target variable\n",
    "\n",
    "X = df_churn_data_1.drop(\"Churn\", axis=1)\n",
    "y = df_churn_data_1[\"Churn\"]\n",
    "\n",
    "# Split dataset into training set and test set\n",
    "X_train, X_test, y_train, y_test = train_test_split(X, y, test_size=0.3, random_state=1) # 70% training and 30% test"
   ]
  },
  {
   "cell_type": "code",
   "execution_count": 18,
   "metadata": {},
   "outputs": [
    {
     "name": "stdout",
     "output_type": "stream",
     "text": [
      "Accuracy: 0.951\n"
     ]
    }
   ],
   "source": [
    "from sklearn.ensemble import RandomForestClassifier\n",
    "\n",
    "#Create a Gaussian Classifier\n",
    "clf=RandomForestClassifier(n_estimators=100)\n",
    "\n",
    "#Train the model using the training sets y_pred=clf.predict(X_test)\n",
    "clf.fit(X_train,y_train)\n",
    "\n",
    "# prediction on test set\n",
    "y_pred=clf.predict(X_test)\n",
    "\n",
    "#Import scikit-learn metrics module for accuracy calculation\n",
    "from sklearn import metrics\n",
    "# Model Accuracy, how often is the classifier correct?\n",
    "print(\"Accuracy:\",metrics.accuracy_score(y_test, y_pred))"
   ]
  },
  {
   "cell_type": "code",
   "execution_count": 19,
   "metadata": {},
   "outputs": [
    {
     "data": {
      "image/png": "[encoded data removed]",
      "text/plain": [
       "<Figure size 432x288 with 1 Axes>"
      ]
     },
     "metadata": {
      "needs_background": "light"
     },
     "output_type": "display_data"
    }
   ],
   "source": [
    "import matplotlib.pyplot as plt\n",
    "from sklearn.metrics import plot_roc_curve\n",
    "\n",
    "ax = plt.gca()\n",
    "clf_disp = plot_roc_curve(clf, X_test, y_test, ax=ax, alpha=0.8)\n",
    "\n",
    "plt.show()\n",
    "# ValueError: RandomForestClassifier should be a binary classifier"
   ]
  },
  {
   "cell_type": "markdown",
   "metadata": {},
   "source": [
    "## Hyper Parameter Tuning"
   ]
  },
  {
   "cell_type": "code",
   "execution_count": 20,
   "metadata": {},
   "outputs": [
    {
     "name": "stdout",
     "output_type": "stream",
     "text": [
      "Parameters currently in use:\n",
      "\n",
      "{'bootstrap': True,\n",
      " 'ccp_alpha': 0.0,\n",
      " 'class_weight': None,\n",
      " 'criterion': 'gini',\n",
      " 'max_depth': None,\n",
      " 'max_features': 'auto',\n",
      " 'max_leaf_nodes': None,\n",
      " 'max_samples': None,\n",
      " 'min_impurity_decrease': 0.0,\n",
      " 'min_impurity_split': None,\n",
      " 'min_samples_leaf': 1,\n",
      " 'min_samples_split': 2,\n",
      " 'min_weight_fraction_leaf': 0.0,\n",
      " 'n_estimators': 100,\n",
      " 'n_jobs': None,\n",
      " 'oob_score': False,\n",
      " 'random_state': None,\n",
      " 'verbose': 0,\n",
      " 'warm_start': False}\n"
     ]
    }
   ],
   "source": [
    "from pprint import pprint\n",
    "# Look at parameters used by our current forest\n",
    "print('Parameters currently in use:\\n')\n",
    "pprint(clf.get_params())"
   ]
  },
  {
   "cell_type": "code",
   "execution_count": 21,
   "metadata": {},
   "outputs": [],
   "source": [
    "from sklearn.model_selection import GridSearchCV\n",
    "# Create the parameter grid based on the results of random search \n",
    "param_grid = {\n",
    "    'bootstrap': [True],\n",
    "    'max_depth': [80, 90, 100, 110],\n",
    "    'max_features': [2, 3],\n",
    "    'min_samples_leaf': [3, 4, 5],\n",
    "    'min_samples_split': [8, 10, 12],\n",
    "    'n_estimators': [100, 200, 300, 1000]\n",
    "}\n",
    "\n"
   ]
  },
  {
   "cell_type": "code",
   "execution_count": 23,
   "metadata": {},
   "outputs": [
    {
     "name": "stdout",
     "output_type": "stream",
     "text": [
      "Fitting 5 folds for each of 10 candidates, totalling 50 fits\n"
     ]
    },
    {
     "name": "stderr",
     "output_type": "stream",
     "text": [
      "[Parallel(n_jobs=-1)]: Using backend LokyBackend with 12 concurrent workers.\n",
      "[Parallel(n_jobs=-1)]: Done  26 tasks      | elapsed:    9.6s\n",
      "[Parallel(n_jobs=-1)]: Done  50 out of  50 | elapsed:   19.8s finished\n"
     ]
    },
    {
     "name": "stdout",
     "output_type": "stream",
     "text": [
      "Successfully executed in 0.4 mins\n",
      "Best: 0.957571 using {'n_estimators': 1000}\n",
      "0.955855 (0.008720) with: {'n_estimators': 100}\n",
      "0.956713 (0.006798) with: {'n_estimators': 200}\n",
      "0.954997 (0.007403) with: {'n_estimators': 300}\n",
      "0.956284 (0.009811) with: {'n_estimators': 400}\n",
      "0.956285 (0.009713) with: {'n_estimators': 500}\n",
      "0.954141 (0.007344) with: {'n_estimators': 600}\n",
      "0.956283 (0.007353) with: {'n_estimators': 700}\n",
      "0.956710 (0.005797) with: {'n_estimators': 800}\n",
      "0.955854 (0.006837) with: {'n_estimators': 900}\n",
      "0.957571 (0.009501) with: {'n_estimators': 1000}\n"
     ]
    },
    {
     "data": {
      "image/png": "[encoded data removed]",
      "text/plain": [
       "<Figure size 432x288 with 1 Axes>"
      ]
     },
     "metadata": {
      "needs_background": "light"
     },
     "output_type": "display_data"
    }
   ],
   "source": [
    "\n",
    "from sklearn.model_selection import StratifiedKFold\n",
    "\n",
    "## Hyperparameter optimization using RandomizedSearchCV\n",
    "from sklearn.model_selection import RandomizedSearchCV, GridSearchCV\n",
    "\n",
    "import time\n",
    "# Initiate start time\n",
    "start_time = time.time()\n",
    "\n",
    "# Parameters\n",
    "n_estimators = [100, 200, 300, 400, 500, 600, 700, 800, 900, 1000] \n",
    "param_grid = dict(n_estimators=n_estimators)\n",
    "\n",
    "#Cross Validation \n",
    "kfold = StratifiedKFold(n_splits=5, shuffle=True, random_state=7)\n",
    "#Model creation with GridSearchCV\n",
    "grid_search = GridSearchCV(clf, param_grid, scoring=\"accuracy\", n_jobs=-1, cv=kfold, verbose = 1)\n",
    "#Fit the Model\n",
    "grid_result = grid_search.fit(X_train,y_train)\n",
    "\n",
    "# Check Execution time\n",
    "end_time = time.time()\n",
    "execution_time = (end_time - start_time)\n",
    "print(\"Successfully executed in\", round(execution_time/60,1), \"mins\")\n",
    "\n",
    "# summarize results\n",
    "print(\"Best: %f using %s\" % (grid_result.best_score_, grid_result.best_params_))\n",
    "means = grid_result.cv_results_['mean_test_score']\n",
    "stds = grid_result.cv_results_['std_test_score']\n",
    "params = grid_result.cv_results_['params']\n",
    "for mean, stdev, param in zip(means, stds, params):\n",
    "\tprint(\"%f (%f) with: %r\" % (mean, stdev, param))\n",
    "\n",
    "# Visualization\n",
    "import matplotlib\n",
    "from matplotlib import pyplot\n",
    "# plot the results\n",
    "pyplot.plot(n_estimators, means)\n",
    "pyplot.title(\"Random Forest n_estimators vs Accuracy\")\n",
    "pyplot.xlabel('n_estimators')\n",
    "pyplot.ylabel('Accuracy')\n",
    "pyplot.show()  "
   ]
  },
  {
   "cell_type": "code",
   "execution_count": 24,
   "metadata": {},
   "outputs": [
    {
     "name": "stdout",
     "output_type": "stream",
     "text": [
      "Fitting 5 folds for each of 5 candidates, totalling 25 fits\n"
     ]
    },
    {
     "name": "stderr",
     "output_type": "stream",
     "text": [
      "[Parallel(n_jobs=-1)]: Using backend LokyBackend with 12 concurrent workers.\n",
      "[Parallel(n_jobs=-1)]: Done  25 out of  25 | elapsed:    0.9s finished\n"
     ]
    },
    {
     "name": "stdout",
     "output_type": "stream",
     "text": [
      "Successfully executed in 0.0 mins\n",
      "Best: 0.932702 using {'max_depth': 6}\n",
      "0.856837 (0.001560) with: {'max_depth': 2}\n",
      "0.882552 (0.005199) with: {'max_depth': 3}\n",
      "0.902277 (0.007548) with: {'max_depth': 4}\n",
      "0.924127 (0.006357) with: {'max_depth': 5}\n",
      "0.932702 (0.008107) with: {'max_depth': 6}\n"
     ]
    },
    {
     "data": {
      "image/png": "[encoded data removed]",
      "text/plain": [
       "<Figure size 432x288 with 1 Axes>"
      ]
     },
     "metadata": {
      "needs_background": "light"
     },
     "output_type": "display_data"
    }
   ],
   "source": [
    "\n",
    "from sklearn.model_selection import StratifiedKFold\n",
    "\n",
    "## Hyperparameter optimization using RandomizedSearchCV\n",
    "from sklearn.model_selection import RandomizedSearchCV, GridSearchCV\n",
    "\n",
    "import time\n",
    "# Initiate start time\n",
    "start_time = time.time()\n",
    "\n",
    "# Parameters\n",
    "max_depth = [2,3,4,5,6]\n",
    "param_grid = dict(max_depth=max_depth)\n",
    "\n",
    "#Cross Validation \n",
    "kfold = StratifiedKFold(n_splits=5, shuffle=True, random_state=7)\n",
    "#Model creation with GridSearchCV\n",
    "grid_search = GridSearchCV(clf, param_grid, scoring=\"accuracy\", n_jobs=-1, cv=kfold, verbose = 1)\n",
    "#Fit the Model\n",
    "grid_result = grid_search.fit(X_train,y_train)\n",
    "\n",
    "# Check Execution time\n",
    "end_time = time.time()\n",
    "execution_time = (end_time - start_time)\n",
    "print(\"Successfully executed in\", round(execution_time/60,1), \"mins\")\n",
    "\n",
    "# summarize results\n",
    "print(\"Best: %f using %s\" % (grid_result.best_score_, grid_result.best_params_))\n",
    "means = grid_result.cv_results_['mean_test_score']\n",
    "stds = grid_result.cv_results_['std_test_score']\n",
    "params = grid_result.cv_results_['params']\n",
    "for mean, stdev, param in zip(means, stds, params):\n",
    "\tprint(\"%f (%f) with: %r\" % (mean, stdev, param))\n",
    "\n",
    "# Visualization\n",
    "import matplotlib\n",
    "from matplotlib import pyplot\n",
    "# plot the results\n",
    "pyplot.plot(max_depth, means)\n",
    "pyplot.title(\"Random Forest max_depth vs Accuracy\")\n",
    "pyplot.xlabel('max_depth')\n",
    "pyplot.ylabel('Accuracy')\n",
    "pyplot.show()  "
   ]
  },
  {
   "cell_type": "code",
   "execution_count": 3,
   "metadata": {},
   "outputs": [
    {
     "name": "stdout",
     "output_type": "stream",
     "text": [
      "Collecting jupyter-kite<2.0.0\n",
      "  Downloading jupyter-kite-1.2.0.tar.gz (30 kB)\n",
      "Requirement already satisfied: notebook>=4.3.1 in c:\\users\\artist of analytics\\anaconda3\\lib\\site-packages (from jupyter-kite<2.0.0) (6.1.4)\n",
      "Requirement already satisfied: tornado>=5.1.0 in c:\\users\\artist of analytics\\anaconda3\\lib\\site-packages (from jupyter-kite<2.0.0) (6.0.4)\n",
      "Requirement already satisfied: setuptools in c:\\users\\artist of analytics\\anaconda3\\lib\\site-packages (from jupyter-kite<2.0.0) (50.3.1.post20201107)\n",
      "Requirement already satisfied: nbconvert in c:\\users\\artist of analytics\\anaconda3\\lib\\site-packages (from notebook>=4.3.1->jupyter-kite<2.0.0) (6.0.7)\n",
      "Requirement already satisfied: jupyter-client>=5.3.4 in c:\\users\\artist of analytics\\anaconda3\\lib\\site-packages (from notebook>=4.3.1->jupyter-kite<2.0.0) (6.1.7)\n",
      "Requirement already satisfied: argon2-cffi in c:\\users\\artist of analytics\\anaconda3\\lib\\site-packages (from notebook>=4.3.1->jupyter-kite<2.0.0) (20.1.0)\n",
      "Requirement already satisfied: Send2Trash in c:\\users\\artist of analytics\\anaconda3\\lib\\site-packages (from notebook>=4.3.1->jupyter-kite<2.0.0) (1.5.0)\n",
      "Requirement already satisfied: ipykernel in c:\\users\\artist of analytics\\anaconda3\\lib\\site-packages (from notebook>=4.3.1->jupyter-kite<2.0.0) (5.3.4)\n",
      "Requirement already satisfied: ipython-genutils in c:\\users\\artist of analytics\\anaconda3\\lib\\site-packages (from notebook>=4.3.1->jupyter-kite<2.0.0) (0.2.0)\n",
      "Requirement already satisfied: terminado>=0.8.3 in c:\\users\\artist of analytics\\anaconda3\\lib\\site-packages (from notebook>=4.3.1->jupyter-kite<2.0.0) (0.9.1)\n",
      "Requirement already satisfied: traitlets>=4.2.1 in c:\\users\\artist of analytics\\anaconda3\\lib\\site-packages (from notebook>=4.3.1->jupyter-kite<2.0.0) (5.0.5)\n",
      "Requirement already satisfied: pyzmq>=17 in c:\\users\\artist of analytics\\anaconda3\\lib\\site-packages (from notebook>=4.3.1->jupyter-kite<2.0.0) (19.0.2)\n",
      "Requirement already satisfied: prometheus-client in c:\\users\\artist of analytics\\anaconda3\\lib\\site-packages (from notebook>=4.3.1->jupyter-kite<2.0.0) (0.8.0)\n",
      "Requirement already satisfied: jinja2 in c:\\users\\artist of analytics\\anaconda3\\lib\\site-packages (from notebook>=4.3.1->jupyter-kite<2.0.0) (2.11.2)\n",
      "Requirement already satisfied: nbformat in c:\\users\\artist of analytics\\anaconda3\\lib\\site-packages (from notebook>=4.3.1->jupyter-kite<2.0.0) (5.0.8)\n",
      "Requirement already satisfied: jupyter-core>=4.6.1 in c:\\users\\artist of analytics\\anaconda3\\lib\\site-packages (from notebook>=4.3.1->jupyter-kite<2.0.0) (4.6.3)\n",
      "Requirement already satisfied: pandocfilters>=1.4.1 in c:\\users\\artist of analytics\\anaconda3\\lib\\site-packages (from nbconvert->notebook>=4.3.1->jupyter-kite<2.0.0) (1.4.3)\n",
      "Requirement already satisfied: defusedxml in c:\\users\\artist of analytics\\anaconda3\\lib\\site-packages (from nbconvert->notebook>=4.3.1->jupyter-kite<2.0.0) (0.6.0)\n",
      "Requirement already satisfied: nbclient<0.6.0,>=0.5.0 in c:\\users\\artist of analytics\\anaconda3\\lib\\site-packages (from nbconvert->notebook>=4.3.1->jupyter-kite<2.0.0) (0.5.1)\n",
      "Requirement already satisfied: entrypoints>=0.2.2 in c:\\users\\artist of analytics\\anaconda3\\lib\\site-packages (from nbconvert->notebook>=4.3.1->jupyter-kite<2.0.0) (0.3)\n",
      "Requirement already satisfied: testpath in c:\\users\\artist of analytics\\anaconda3\\lib\\site-packages (from nbconvert->notebook>=4.3.1->jupyter-kite<2.0.0) (0.4.4)\n",
      "Requirement already satisfied: mistune<2,>=0.8.1 in c:\\users\\artist of analytics\\anaconda3\\lib\\site-packages (from nbconvert->notebook>=4.3.1->jupyter-kite<2.0.0) (0.8.4)\n",
      "Requirement already satisfied: jupyterlab-pygments in c:\\users\\artist of analytics\\anaconda3\\lib\\site-packages (from nbconvert->notebook>=4.3.1->jupyter-kite<2.0.0) (0.1.2)\n",
      "Requirement already satisfied: pygments>=2.4.1 in c:\\users\\artist of analytics\\anaconda3\\lib\\site-packages (from nbconvert->notebook>=4.3.1->jupyter-kite<2.0.0) (2.7.2)\n",
      "Requirement already satisfied: bleach in c:\\users\\artist of analytics\\anaconda3\\lib\\site-packages (from nbconvert->notebook>=4.3.1->jupyter-kite<2.0.0) (3.2.1)\n",
      "Requirement already satisfied: python-dateutil>=2.1 in c:\\users\\artist of analytics\\anaconda3\\lib\\site-packages (from jupyter-client>=5.3.4->notebook>=4.3.1->jupyter-kite<2.0.0) (2.8.1)\n",
      "Requirement already satisfied: cffi>=1.0.0 in c:\\users\\artist of analytics\\anaconda3\\lib\\site-packages (from argon2-cffi->notebook>=4.3.1->jupyter-kite<2.0.0) (1.14.3)\n",
      "Requirement already satisfied: six in c:\\users\\artist of analytics\\anaconda3\\lib\\site-packages (from argon2-cffi->notebook>=4.3.1->jupyter-kite<2.0.0) (1.15.0)\n",
      "Requirement already satisfied: ipython>=5.0.0 in c:\\users\\artist of analytics\\anaconda3\\lib\\site-packages (from ipykernel->notebook>=4.3.1->jupyter-kite<2.0.0) (7.19.0)\n",
      "Requirement already satisfied: pywinpty>=0.5 in c:\\users\\artist of analytics\\anaconda3\\lib\\site-packages (from terminado>=0.8.3->notebook>=4.3.1->jupyter-kite<2.0.0) (0.5.7)\n",
      "Requirement already satisfied: MarkupSafe>=0.23 in c:\\users\\artist of analytics\\anaconda3\\lib\\site-packages (from jinja2->notebook>=4.3.1->jupyter-kite<2.0.0) (1.1.1)\n",
      "Requirement already satisfied: jsonschema!=2.5.0,>=2.4 in c:\\users\\artist of analytics\\anaconda3\\lib\\site-packages (from nbformat->notebook>=4.3.1->jupyter-kite<2.0.0) (3.2.0)\n",
      "Requirement already satisfied: pywin32>=1.0; sys_platform == \"win32\" in c:\\users\\artist of analytics\\anaconda3\\lib\\site-packages (from jupyter-core>=4.6.1->notebook>=4.3.1->jupyter-kite<2.0.0) (227)\n",
      "Requirement already satisfied: async-generator in c:\\users\\artist of analytics\\anaconda3\\lib\\site-packages (from nbclient<0.6.0,>=0.5.0->nbconvert->notebook>=4.3.1->jupyter-kite<2.0.0) (1.10)\n",
      "Requirement already satisfied: nest-asyncio in c:\\users\\artist of analytics\\anaconda3\\lib\\site-packages (from nbclient<0.6.0,>=0.5.0->nbconvert->notebook>=4.3.1->jupyter-kite<2.0.0) (1.4.2)\n",
      "Requirement already satisfied: webencodings in c:\\users\\artist of analytics\\anaconda3\\lib\\site-packages (from bleach->nbconvert->notebook>=4.3.1->jupyter-kite<2.0.0) (0.5.1)\n",
      "Requirement already satisfied: packaging in c:\\users\\artist of analytics\\anaconda3\\lib\\site-packages (from bleach->nbconvert->notebook>=4.3.1->jupyter-kite<2.0.0) (20.9)\n",
      "Requirement already satisfied: pycparser in c:\\users\\artist of analytics\\anaconda3\\lib\\site-packages (from cffi>=1.0.0->argon2-cffi->notebook>=4.3.1->jupyter-kite<2.0.0) (2.20)\n",
      "Requirement already satisfied: backcall in c:\\users\\artist of analytics\\anaconda3\\lib\\site-packages (from ipython>=5.0.0->ipykernel->notebook>=4.3.1->jupyter-kite<2.0.0) (0.2.0)\n",
      "Requirement already satisfied: prompt-toolkit!=3.0.0,!=3.0.1,<3.1.0,>=2.0.0 in c:\\users\\artist of analytics\\anaconda3\\lib\\site-packages (from ipython>=5.0.0->ipykernel->notebook>=4.3.1->jupyter-kite<2.0.0) (3.0.8)\n",
      "Requirement already satisfied: pickleshare in c:\\users\\artist of analytics\\anaconda3\\lib\\site-packages (from ipython>=5.0.0->ipykernel->notebook>=4.3.1->jupyter-kite<2.0.0) (0.7.5)\n",
      "Requirement already satisfied: colorama; sys_platform == \"win32\" in c:\\users\\artist of analytics\\anaconda3\\lib\\site-packages (from ipython>=5.0.0->ipykernel->notebook>=4.3.1->jupyter-kite<2.0.0) (0.4.4)\n",
      "Requirement already satisfied: jedi>=0.10 in c:\\users\\artist of analytics\\anaconda3\\lib\\site-packages (from ipython>=5.0.0->ipykernel->notebook>=4.3.1->jupyter-kite<2.0.0) (0.17.1)\n",
      "Requirement already satisfied: decorator in c:\\users\\artist of analytics\\anaconda3\\lib\\site-packages (from ipython>=5.0.0->ipykernel->notebook>=4.3.1->jupyter-kite<2.0.0) (4.4.2)\n",
      "Requirement already satisfied: pyrsistent>=0.14.0 in c:\\users\\artist of analytics\\anaconda3\\lib\\site-packages (from jsonschema!=2.5.0,>=2.4->nbformat->notebook>=4.3.1->jupyter-kite<2.0.0) (0.17.3)\n",
      "Requirement already satisfied: attrs>=17.4.0 in c:\\users\\artist of analytics\\anaconda3\\lib\\site-packages (from jsonschema!=2.5.0,>=2.4->nbformat->notebook>=4.3.1->jupyter-kite<2.0.0) (21.2.0)\n",
      "Requirement already satisfied: pyparsing>=2.0.2 in c:\\users\\artist of analytics\\anaconda3\\lib\\site-packages (from packaging->bleach->nbconvert->notebook>=4.3.1->jupyter-kite<2.0.0) (2.4.7)\n",
      "Requirement already satisfied: wcwidth in c:\\users\\artist of analytics\\anaconda3\\lib\\site-packages (from prompt-toolkit!=3.0.0,!=3.0.1,<3.1.0,>=2.0.0->ipython>=5.0.0->ipykernel->notebook>=4.3.1->jupyter-kite<2.0.0) (0.2.5)\n",
      "Requirement already satisfied: parso<0.8.0,>=0.7.0 in c:\\users\\artist of analytics\\anaconda3\\lib\\site-packages (from jedi>=0.10->ipython>=5.0.0->ipykernel->notebook>=4.3.1->jupyter-kite<2.0.0) (0.7.0)\n",
      "Building wheels for collected packages: jupyter-kite\n",
      "  Building wheel for jupyter-kite (setup.py): started\n",
      "  Building wheel for jupyter-kite (setup.py): finished with status 'done'\n",
      "  Created wheel for jupyter-kite: filename=jupyter_kite-1.2.0-py3-none-any.whl size=43033 sha256=405c241ccb86460a5605b1e722d455de5c982a1608c11e2d400d7b23476a01a5\n",
      "  Stored in directory: c:\\users\\artist of analytics\\appdata\\local\\pip\\cache\\wheels\\c0\\5c\\ff\\726fda8fc6ae2c0b8115b9573127bebc8d99f4639e406c2a6a\n",
      "Successfully built jupyter-kite\n",
      "Installing collected packages: jupyter-kite\n",
      "Successfully installed jupyter-kite-1.2.0\n",
      "An error occured.\n",
      "ValueError: Please install Node.js and npm before continuing installation. You may be able to install Node.js from your package manager, from conda, or directly from the Node.js website (https://nodejs.org).\n",
      "See the log file for details:  C:\\conda_tmp\\jupyterlab-debug-hl79auc9.log\n"
     ]
    }
   ],
   "source": [
    "!pip install \"jupyter-kite<2.0.0\"\n",
    "!jupyter labextension install \"@kiteco/jupyterlab-kite\"\n"
   ]
  },
  {
   "cell_type": "code",
   "execution_count": null,
   "metadata": {},
   "outputs": [],
   "source": []
  }
 ],
 "metadata": {
  "kernelspec": {
   "display_name": "Python 3",
   "language": "python",
   "name": "python3"
  },
  "language_info": {
   "codemirror_mode": {
    "name": "ipython",
    "version": 3
   },
   "file_extension": ".py",
   "mimetype": "text/x-python",
   "name": "python",
   "nbconvert_exporter": "python",
   "pygments_lexer": "ipython3",
   "version": "3.8.5"
  }
 },
 "nbformat": 4,
 "nbformat_minor": 4
}
